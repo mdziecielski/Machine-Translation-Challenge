{
  "nbformat": 4,
  "nbformat_minor": 5,
  "metadata": {
    "kernelspec": {
      "display_name": "Python 3",
      "language": "python",
      "name": "python3"
    },
    "language_info": {
      "codemirror_mode": {
        "name": "ipython",
        "version": 3
      },
      "file_extension": ".py",
      "mimetype": "text/x-python",
      "name": "python",
      "nbconvert_exporter": "python",
      "pygments_lexer": "ipython3",
      "version": "3.8.7"
    },
    "colab": {
      "name": "main.ipynb",
      "provenance": [],
      "collapsed_sections": [],
      "toc_visible": true,
      "include_colab_link": true
    },
    "accelerator": "GPU",
    "widgets": {
      "application/vnd.jupyter.widget-state+json": {
        "a4282241bce240a6980a6c0d41736270": {
          "model_module": "@jupyter-widgets/controls",
          "model_name": "HBoxModel",
          "state": {
            "_view_name": "HBoxView",
            "_dom_classes": [],
            "_model_name": "HBoxModel",
            "_view_module": "@jupyter-widgets/controls",
            "_model_module_version": "1.5.0",
            "_view_count": null,
            "_view_module_version": "1.5.0",
            "box_style": "",
            "layout": "IPY_MODEL_2cacb24652b7481f8844d3eb873e81fd",
            "_model_module": "@jupyter-widgets/controls",
            "children": [
              "IPY_MODEL_7cce326b924b403b8e5a747bcbf0180a",
              "IPY_MODEL_f6e2e496c7eb4eb3b610e8e83ee92b5d"
            ]
          }
        },
        "2cacb24652b7481f8844d3eb873e81fd": {
          "model_module": "@jupyter-widgets/base",
          "model_name": "LayoutModel",
          "state": {
            "_view_name": "LayoutView",
            "grid_template_rows": null,
            "right": null,
            "justify_content": null,
            "_view_module": "@jupyter-widgets/base",
            "overflow": null,
            "_model_module_version": "1.2.0",
            "_view_count": null,
            "flex_flow": null,
            "width": null,
            "min_width": null,
            "border": null,
            "align_items": null,
            "bottom": null,
            "_model_module": "@jupyter-widgets/base",
            "top": null,
            "grid_column": null,
            "overflow_y": null,
            "overflow_x": null,
            "grid_auto_flow": null,
            "grid_area": null,
            "grid_template_columns": null,
            "flex": null,
            "_model_name": "LayoutModel",
            "justify_items": null,
            "grid_row": null,
            "max_height": null,
            "align_content": null,
            "visibility": null,
            "align_self": null,
            "height": null,
            "min_height": null,
            "padding": null,
            "grid_auto_rows": null,
            "grid_gap": null,
            "max_width": null,
            "order": null,
            "_view_module_version": "1.2.0",
            "grid_template_areas": null,
            "object_position": null,
            "object_fit": null,
            "grid_auto_columns": null,
            "margin": null,
            "display": null,
            "left": null
          }
        },
        "7cce326b924b403b8e5a747bcbf0180a": {
          "model_module": "@jupyter-widgets/controls",
          "model_name": "FloatProgressModel",
          "state": {
            "_view_name": "ProgressView",
            "style": "IPY_MODEL_faf63ac073d84fb8b4bb2a8499692f27",
            "_dom_classes": [],
            "description": "100%",
            "_model_name": "FloatProgressModel",
            "bar_style": "success",
            "max": 2929,
            "_view_module": "@jupyter-widgets/controls",
            "_model_module_version": "1.5.0",
            "value": 2929,
            "_view_count": null,
            "_view_module_version": "1.5.0",
            "orientation": "horizontal",
            "min": 0,
            "description_tooltip": null,
            "_model_module": "@jupyter-widgets/controls",
            "layout": "IPY_MODEL_7ec4608a0ba7454a98fbed3410e9595a"
          }
        },
        "f6e2e496c7eb4eb3b610e8e83ee92b5d": {
          "model_module": "@jupyter-widgets/controls",
          "model_name": "HTMLModel",
          "state": {
            "_view_name": "HTMLView",
            "style": "IPY_MODEL_673eb6742f3044618245c98830c54d02",
            "_dom_classes": [],
            "description": "",
            "_model_name": "HTMLModel",
            "placeholder": "​",
            "_view_module": "@jupyter-widgets/controls",
            "_model_module_version": "1.5.0",
            "value": " 2929/2929 [26:50&lt;00:00,  1.82it/s]",
            "_view_count": null,
            "_view_module_version": "1.5.0",
            "description_tooltip": null,
            "_model_module": "@jupyter-widgets/controls",
            "layout": "IPY_MODEL_7de0d3d50d8f4d728663b6a40b035b92"
          }
        },
        "faf63ac073d84fb8b4bb2a8499692f27": {
          "model_module": "@jupyter-widgets/controls",
          "model_name": "ProgressStyleModel",
          "state": {
            "_view_name": "StyleView",
            "_model_name": "ProgressStyleModel",
            "description_width": "initial",
            "_view_module": "@jupyter-widgets/base",
            "_model_module_version": "1.5.0",
            "_view_count": null,
            "_view_module_version": "1.2.0",
            "bar_color": null,
            "_model_module": "@jupyter-widgets/controls"
          }
        },
        "7ec4608a0ba7454a98fbed3410e9595a": {
          "model_module": "@jupyter-widgets/base",
          "model_name": "LayoutModel",
          "state": {
            "_view_name": "LayoutView",
            "grid_template_rows": null,
            "right": null,
            "justify_content": null,
            "_view_module": "@jupyter-widgets/base",
            "overflow": null,
            "_model_module_version": "1.2.0",
            "_view_count": null,
            "flex_flow": null,
            "width": null,
            "min_width": null,
            "border": null,
            "align_items": null,
            "bottom": null,
            "_model_module": "@jupyter-widgets/base",
            "top": null,
            "grid_column": null,
            "overflow_y": null,
            "overflow_x": null,
            "grid_auto_flow": null,
            "grid_area": null,
            "grid_template_columns": null,
            "flex": null,
            "_model_name": "LayoutModel",
            "justify_items": null,
            "grid_row": null,
            "max_height": null,
            "align_content": null,
            "visibility": null,
            "align_self": null,
            "height": null,
            "min_height": null,
            "padding": null,
            "grid_auto_rows": null,
            "grid_gap": null,
            "max_width": null,
            "order": null,
            "_view_module_version": "1.2.0",
            "grid_template_areas": null,
            "object_position": null,
            "object_fit": null,
            "grid_auto_columns": null,
            "margin": null,
            "display": null,
            "left": null
          }
        },
        "673eb6742f3044618245c98830c54d02": {
          "model_module": "@jupyter-widgets/controls",
          "model_name": "DescriptionStyleModel",
          "state": {
            "_view_name": "StyleView",
            "_model_name": "DescriptionStyleModel",
            "description_width": "",
            "_view_module": "@jupyter-widgets/base",
            "_model_module_version": "1.5.0",
            "_view_count": null,
            "_view_module_version": "1.2.0",
            "_model_module": "@jupyter-widgets/controls"
          }
        },
        "7de0d3d50d8f4d728663b6a40b035b92": {
          "model_module": "@jupyter-widgets/base",
          "model_name": "LayoutModel",
          "state": {
            "_view_name": "LayoutView",
            "grid_template_rows": null,
            "right": null,
            "justify_content": null,
            "_view_module": "@jupyter-widgets/base",
            "overflow": null,
            "_model_module_version": "1.2.0",
            "_view_count": null,
            "flex_flow": null,
            "width": null,
            "min_width": null,
            "border": null,
            "align_items": null,
            "bottom": null,
            "_model_module": "@jupyter-widgets/base",
            "top": null,
            "grid_column": null,
            "overflow_y": null,
            "overflow_x": null,
            "grid_auto_flow": null,
            "grid_area": null,
            "grid_template_columns": null,
            "flex": null,
            "_model_name": "LayoutModel",
            "justify_items": null,
            "grid_row": null,
            "max_height": null,
            "align_content": null,
            "visibility": null,
            "align_self": null,
            "height": null,
            "min_height": null,
            "padding": null,
            "grid_auto_rows": null,
            "grid_gap": null,
            "max_width": null,
            "order": null,
            "_view_module_version": "1.2.0",
            "grid_template_areas": null,
            "object_position": null,
            "object_fit": null,
            "grid_auto_columns": null,
            "margin": null,
            "display": null,
            "left": null
          }
        },
        "1c3422f015c9486e98629275fae1c6cf": {
          "model_module": "@jupyter-widgets/controls",
          "model_name": "HBoxModel",
          "state": {
            "_view_name": "HBoxView",
            "_dom_classes": [],
            "_model_name": "HBoxModel",
            "_view_module": "@jupyter-widgets/controls",
            "_model_module_version": "1.5.0",
            "_view_count": null,
            "_view_module_version": "1.5.0",
            "box_style": "",
            "layout": "IPY_MODEL_7907c18c78bb46448a8077ae49b2cbf8",
            "_model_module": "@jupyter-widgets/controls",
            "children": [
              "IPY_MODEL_f27d92399afc486fb80ef97174625a8d",
              "IPY_MODEL_c2ec380e5f70413091ec7bc59f1943e9"
            ]
          }
        },
        "7907c18c78bb46448a8077ae49b2cbf8": {
          "model_module": "@jupyter-widgets/base",
          "model_name": "LayoutModel",
          "state": {
            "_view_name": "LayoutView",
            "grid_template_rows": null,
            "right": null,
            "justify_content": null,
            "_view_module": "@jupyter-widgets/base",
            "overflow": null,
            "_model_module_version": "1.2.0",
            "_view_count": null,
            "flex_flow": null,
            "width": null,
            "min_width": null,
            "border": null,
            "align_items": null,
            "bottom": null,
            "_model_module": "@jupyter-widgets/base",
            "top": null,
            "grid_column": null,
            "overflow_y": null,
            "overflow_x": null,
            "grid_auto_flow": null,
            "grid_area": null,
            "grid_template_columns": null,
            "flex": null,
            "_model_name": "LayoutModel",
            "justify_items": null,
            "grid_row": null,
            "max_height": null,
            "align_content": null,
            "visibility": null,
            "align_self": null,
            "height": null,
            "min_height": null,
            "padding": null,
            "grid_auto_rows": null,
            "grid_gap": null,
            "max_width": null,
            "order": null,
            "_view_module_version": "1.2.0",
            "grid_template_areas": null,
            "object_position": null,
            "object_fit": null,
            "grid_auto_columns": null,
            "margin": null,
            "display": null,
            "left": null
          }
        },
        "f27d92399afc486fb80ef97174625a8d": {
          "model_module": "@jupyter-widgets/controls",
          "model_name": "FloatProgressModel",
          "state": {
            "_view_name": "ProgressView",
            "style": "IPY_MODEL_e37a0913ea854c17ae5f1e12c176dc27",
            "_dom_classes": [],
            "description": "100%",
            "_model_name": "FloatProgressModel",
            "bar_style": "success",
            "max": 2964,
            "_view_module": "@jupyter-widgets/controls",
            "_model_module_version": "1.5.0",
            "value": 2964,
            "_view_count": null,
            "_view_module_version": "1.5.0",
            "orientation": "horizontal",
            "min": 0,
            "description_tooltip": null,
            "_model_module": "@jupyter-widgets/controls",
            "layout": "IPY_MODEL_f1e8fc51ab4b446fb7e7c9f2ee062d65"
          }
        },
        "c2ec380e5f70413091ec7bc59f1943e9": {
          "model_module": "@jupyter-widgets/controls",
          "model_name": "HTMLModel",
          "state": {
            "_view_name": "HTMLView",
            "style": "IPY_MODEL_84f8e3446ae444baa8f4a20dc0493fa1",
            "_dom_classes": [],
            "description": "",
            "_model_name": "HTMLModel",
            "placeholder": "​",
            "_view_module": "@jupyter-widgets/controls",
            "_model_module_version": "1.5.0",
            "value": " 2964/2964 [23:02&lt;00:00,  2.14it/s]",
            "_view_count": null,
            "_view_module_version": "1.5.0",
            "description_tooltip": null,
            "_model_module": "@jupyter-widgets/controls",
            "layout": "IPY_MODEL_0ae02b560cf548798585919c409a84a4"
          }
        },
        "e37a0913ea854c17ae5f1e12c176dc27": {
          "model_module": "@jupyter-widgets/controls",
          "model_name": "ProgressStyleModel",
          "state": {
            "_view_name": "StyleView",
            "_model_name": "ProgressStyleModel",
            "description_width": "initial",
            "_view_module": "@jupyter-widgets/base",
            "_model_module_version": "1.5.0",
            "_view_count": null,
            "_view_module_version": "1.2.0",
            "bar_color": null,
            "_model_module": "@jupyter-widgets/controls"
          }
        },
        "f1e8fc51ab4b446fb7e7c9f2ee062d65": {
          "model_module": "@jupyter-widgets/base",
          "model_name": "LayoutModel",
          "state": {
            "_view_name": "LayoutView",
            "grid_template_rows": null,
            "right": null,
            "justify_content": null,
            "_view_module": "@jupyter-widgets/base",
            "overflow": null,
            "_model_module_version": "1.2.0",
            "_view_count": null,
            "flex_flow": null,
            "width": null,
            "min_width": null,
            "border": null,
            "align_items": null,
            "bottom": null,
            "_model_module": "@jupyter-widgets/base",
            "top": null,
            "grid_column": null,
            "overflow_y": null,
            "overflow_x": null,
            "grid_auto_flow": null,
            "grid_area": null,
            "grid_template_columns": null,
            "flex": null,
            "_model_name": "LayoutModel",
            "justify_items": null,
            "grid_row": null,
            "max_height": null,
            "align_content": null,
            "visibility": null,
            "align_self": null,
            "height": null,
            "min_height": null,
            "padding": null,
            "grid_auto_rows": null,
            "grid_gap": null,
            "max_width": null,
            "order": null,
            "_view_module_version": "1.2.0",
            "grid_template_areas": null,
            "object_position": null,
            "object_fit": null,
            "grid_auto_columns": null,
            "margin": null,
            "display": null,
            "left": null
          }
        },
        "84f8e3446ae444baa8f4a20dc0493fa1": {
          "model_module": "@jupyter-widgets/controls",
          "model_name": "DescriptionStyleModel",
          "state": {
            "_view_name": "StyleView",
            "_model_name": "DescriptionStyleModel",
            "description_width": "",
            "_view_module": "@jupyter-widgets/base",
            "_model_module_version": "1.5.0",
            "_view_count": null,
            "_view_module_version": "1.2.0",
            "_model_module": "@jupyter-widgets/controls"
          }
        },
        "0ae02b560cf548798585919c409a84a4": {
          "model_module": "@jupyter-widgets/base",
          "model_name": "LayoutModel",
          "state": {
            "_view_name": "LayoutView",
            "grid_template_rows": null,
            "right": null,
            "justify_content": null,
            "_view_module": "@jupyter-widgets/base",
            "overflow": null,
            "_model_module_version": "1.2.0",
            "_view_count": null,
            "flex_flow": null,
            "width": null,
            "min_width": null,
            "border": null,
            "align_items": null,
            "bottom": null,
            "_model_module": "@jupyter-widgets/base",
            "top": null,
            "grid_column": null,
            "overflow_y": null,
            "overflow_x": null,
            "grid_auto_flow": null,
            "grid_area": null,
            "grid_template_columns": null,
            "flex": null,
            "_model_name": "LayoutModel",
            "justify_items": null,
            "grid_row": null,
            "max_height": null,
            "align_content": null,
            "visibility": null,
            "align_self": null,
            "height": null,
            "min_height": null,
            "padding": null,
            "grid_auto_rows": null,
            "grid_gap": null,
            "max_width": null,
            "order": null,
            "_view_module_version": "1.2.0",
            "grid_template_areas": null,
            "object_position": null,
            "object_fit": null,
            "grid_auto_columns": null,
            "margin": null,
            "display": null,
            "left": null
          }
        }
      }
    }
  },
  "cells": [
    {
      "cell_type": "markdown",
      "metadata": {
        "id": "view-in-github",
        "colab_type": "text"
      },
      "source": [
        "<a href=\"https://colab.research.google.com/github/mdziecielski/Machine-Translation-Challenge/blob/main/main.ipynb\" target=\"_parent\"><img src=\"https://colab.research.google.com/assets/colab-badge.svg\" alt=\"Open In Colab\"/></a>"
      ]
    },
    {
      "cell_type": "markdown",
      "metadata": {
        "id": "operating-battle"
      },
      "source": [
        "# AI4D Takwimu Lab - Machine Translation Challenge"
      ],
      "id": "operating-battle"
    },
    {
      "cell_type": "markdown",
      "metadata": {
        "id": "worldwide-bidding"
      },
      "source": [
        "https://zindi.africa/competitions/ai4d-takwimu-lab-machine-translation-challenge"
      ],
      "id": "worldwide-bidding"
    },
    {
      "cell_type": "markdown",
      "metadata": {
        "id": "third-destruction"
      },
      "source": [
        "## Goal\n",
        "\n",
        "The objective of this challenge is to create a machine translation system capable of converting text from French into Fongbe or Ewe. You may train one model per language or create a single model for both. You may not use any external data, so a key component of this competition is finding a way to work with the available data efficiently."
      ],
      "id": "third-destruction"
    },
    {
      "cell_type": "markdown",
      "metadata": {
        "id": "technical-projection"
      },
      "source": [
        "## Data\n",
        "\n",
        "Files:\n",
        "* Train.csv - contains parallel sentences for training your model or models. There are 77,177 rows, of which 53,366 are French-Fongbe and 23,811 are French-Ewe\n",
        "* Test.csv- resembles Train.csv but without the Target column. This is the dataset on which you will apply your model(s).\n",
        "* SampleSubmission.csv - shows the submission format for this competition, with the ID column mirroring that of Test.csv and the ‘Target’ column containing your translation in Ewe or Fongbe. The order of the rows does not matter, but the names of the ‘ID’ must be correct.\n",
        "\n",
        "Variables:\n",
        "* ID : Unique identifier of the text\n",
        "* French : Text in French\n",
        "* Target_Laguauge: The target language\n",
        "* Target : Text in Fongbe or Ewe"
      ],
      "id": "technical-projection"
    },
    {
      "cell_type": "markdown",
      "metadata": {
        "id": "happy-allah"
      },
      "source": [
        "## Evaluation\n",
        "\n",
        "The error metric for this competition is the BLEU score. The BLEU score is a way of evaluating machine translations by comparing a candidate translation with one or more reference translations. There is no perfect metric for machine translation, but the BLEU score is useful for the following reasons:\n",
        "* BLEU scores tend to correlate well with human evaluations of translations\n",
        "* BLEU is an extremely common metric\n",
        "* Computing the BLEU score is relatively simple and it is well-supported by various libraries\n",
        "\n",
        "However, there are some caveats worth noting:\n",
        "* BLEU scores are not always comparable across different datasets. In particular, the BLEU score is very dependent on the number of reference translations available. A low score on a dataset with only one reference translation for each input (such as the one in this competition) does not necessarily imply a worse model than one which gets a high score on a different dataset. This makes it hard to directly compare with other models based on BLEU score alone.\n",
        "* The BLEU score looks at words which the candidate translation and the reference have in common. This can cause issues, especially for agglutinative"
      ],
      "id": "happy-allah"
    },
    {
      "cell_type": "markdown",
      "metadata": {
        "id": "floppy-neutral"
      },
      "source": [
        "## Deadline\n",
        "\n",
        "**31 May 2021**"
      ],
      "id": "floppy-neutral"
    },
    {
      "cell_type": "markdown",
      "metadata": {
        "id": "up6VzGCC6y8y"
      },
      "source": [
        "## Sources\n",
        "* https://stackabuse.com/python-for-nlp-neural-machine-translation-with-seq2seq-in-keras/\n",
        "* https://blog.keras.io/a-ten-minute-introduction-to-sequence-to-sequence-learning-in-keras.html\n",
        "* https://stackoverflow.com/questions/50915634/multilayer-seq2seq-model-with-lstm-in-keras"
      ],
      "id": "up6VzGCC6y8y"
    },
    {
      "cell_type": "markdown",
      "metadata": {
        "id": "eIKmtIaIVvx1"
      },
      "source": [
        "## Papers\n",
        "* [Regularization techniques for fine-tuning in neural machine translation](https://arxiv.org/abs/1707.09920)\n",
        "* [SwitchOut: an Efficient Data Augmentation Algorithm for Neural Machine Translation](https://arxiv.org/abs/1808.07512)"
      ],
      "id": "eIKmtIaIVvx1"
    },
    {
      "cell_type": "markdown",
      "metadata": {
        "id": "1BQJ_6LQ9eG7"
      },
      "source": [
        "## To-dos\n",
        "\n",
        "\n",
        "1.   Overfitting\n",
        "  * Decrease model size (LSTM and Embedding)\n",
        "  * L2 regularization\n",
        "  * Add dropout layers\n",
        "4.   Data augmentation\n",
        "5.   K-fold validation\n",
        "6.   Stack multiple LSTMs?\n",
        "7.   Split data into train, val and test - test using BLEU score\n",
        "\n",
        "\n",
        "---\n"
      ],
      "id": "1BQJ_6LQ9eG7"
    },
    {
      "cell_type": "markdown",
      "metadata": {
        "id": "detected-battery"
      },
      "source": [
        "# Load data and import libraries"
      ],
      "id": "detected-battery"
    },
    {
      "cell_type": "code",
      "metadata": {
        "id": "massive-syndication",
        "colab": {
          "base_uri": "https://localhost:8080/"
        },
        "outputId": "c4f8dfa0-fa08-41ea-9ea5-6609ae9a4532"
      },
      "source": [
        "import pandas as pd\n",
        "import numpy as np\n",
        "import math\n",
        "from sklearn.model_selection import train_test_split\n",
        "from tqdm.notebook import trange\n",
        "from keras.preprocessing.text import Tokenizer\n",
        "from keras.preprocessing.sequence import pad_sequences\n",
        "from keras.models import Model, load_model\n",
        "from keras.layers import Input, Embedding, LSTM, Dense\n",
        "from keras.regularizers import l2\n",
        "from matplotlib import pyplot as plt\n",
        "from google.colab import drive\n",
        "\n",
        "drive.mount('/content/drive')\n",
        "main_dir = '/content/drive/MyDrive/Side projects/AI4D Takwimu Lab - Machine Translation Challenge/'"
      ],
      "id": "massive-syndication",
      "execution_count": null,
      "outputs": [
        {
          "output_type": "stream",
          "text": [
            "Mounted at /content/drive\n"
          ],
          "name": "stdout"
        }
      ]
    },
    {
      "cell_type": "code",
      "metadata": {
        "id": "gorgeous-wallet"
      },
      "source": [
        "train_df = pd.read_csv(main_dir + 'Train.csv')\n",
        "test_df = pd.read_csv(main_dir + 'Test.csv')\n",
        "jw300_fon = pd.read_csv(main_dir + 'fon-fr.csv')"
      ],
      "id": "gorgeous-wallet",
      "execution_count": null,
      "outputs": []
    },
    {
      "cell_type": "code",
      "metadata": {
        "colab": {
          "base_uri": "https://localhost:8080/",
          "height": 411
        },
        "id": "operational-updating",
        "outputId": "61c7e7f5-8dc0-4239-e5a0-5b0f217a6c52"
      },
      "source": [
        "train_df"
      ],
      "id": "operational-updating",
      "execution_count": null,
      "outputs": [
        {
          "output_type": "execute_result",
          "data": {
            "text/html": [
              "<div>\n",
              "<style scoped>\n",
              "    .dataframe tbody tr th:only-of-type {\n",
              "        vertical-align: middle;\n",
              "    }\n",
              "\n",
              "    .dataframe tbody tr th {\n",
              "        vertical-align: top;\n",
              "    }\n",
              "\n",
              "    .dataframe thead th {\n",
              "        text-align: right;\n",
              "    }\n",
              "</style>\n",
              "<table border=\"1\" class=\"dataframe\">\n",
              "  <thead>\n",
              "    <tr style=\"text-align: right;\">\n",
              "      <th></th>\n",
              "      <th>ID</th>\n",
              "      <th>French</th>\n",
              "      <th>Target_Language</th>\n",
              "      <th>Target</th>\n",
              "    </tr>\n",
              "  </thead>\n",
              "  <tbody>\n",
              "    <tr>\n",
              "      <th>0</th>\n",
              "      <td>ID_AADNDxdl</td>\n",
              "      <td>Mon père</td>\n",
              "      <td>Fon</td>\n",
              "      <td>Tɔ ce</td>\n",
              "    </tr>\n",
              "    <tr>\n",
              "      <th>1</th>\n",
              "      <td>ID_AAFQhmDr</td>\n",
              "      <td>Mettez-vous en rang.</td>\n",
              "      <td>Fon</td>\n",
              "      <td>Mi tò miɖéé</td>\n",
              "    </tr>\n",
              "    <tr>\n",
              "      <th>2</th>\n",
              "      <td>ID_AAHVDMdq</td>\n",
              "      <td>Sénégal, Côte d'Ivoire, Guinée, Ghana, on déco...</td>\n",
              "      <td>Ewe</td>\n",
              "      <td>Sénégal, Côte d'Ivoire, Guinée, Ghana, siwo ƒe...</td>\n",
              "    </tr>\n",
              "    <tr>\n",
              "      <th>3</th>\n",
              "      <td>ID_AAJfVHEH</td>\n",
              "      <td>Son doigt lui fait mal.</td>\n",
              "      <td>Fon</td>\n",
              "      <td>Alɔvi tɔn ɖo vivɛ wɛ</td>\n",
              "    </tr>\n",
              "    <tr>\n",
              "      <th>4</th>\n",
              "      <td>ID_AAOJuhzN</td>\n",
              "      <td>La pluie a commencé.</td>\n",
              "      <td>Fon</td>\n",
              "      <td>Jì bɛ́</td>\n",
              "    </tr>\n",
              "    <tr>\n",
              "      <th>...</th>\n",
              "      <td>...</td>\n",
              "      <td>...</td>\n",
              "      <td>...</td>\n",
              "      <td>...</td>\n",
              "    </tr>\n",
              "    <tr>\n",
              "      <th>75482</th>\n",
              "      <td>ID_zzsOfbtD</td>\n",
              "      <td>Reconduis-le.</td>\n",
              "      <td>Fon</td>\n",
              "      <td>Kpl’ɛ́ yì</td>\n",
              "    </tr>\n",
              "    <tr>\n",
              "      <th>75483</th>\n",
              "      <td>ID_zztJChgi</td>\n",
              "      <td>Le vent pousse le nuage</td>\n",
              "      <td>Fon</td>\n",
              "      <td>Jɔhɔn ɔ ɖo akpɔkpɔ sisε wε.</td>\n",
              "    </tr>\n",
              "    <tr>\n",
              "      <th>75484</th>\n",
              "      <td>ID_zztqxmJe</td>\n",
              "      <td>Si mon mari conduit, c’est que ce n’est pas lo...</td>\n",
              "      <td>Fon</td>\n",
              "      <td>Nu asu ce kun hun ɔ, hun e lin a nε</td>\n",
              "    </tr>\n",
              "    <tr>\n",
              "      <th>75485</th>\n",
              "      <td>ID_zzxVgzgw</td>\n",
              "      <td>Cette année, je vais épouser celle-là.</td>\n",
              "      <td>Fon</td>\n",
              "      <td>Xwe elɔ mɛ, un na wli alɔ x’ɛ</td>\n",
              "    </tr>\n",
              "    <tr>\n",
              "      <th>75486</th>\n",
              "      <td>ID_zzzEhSHN</td>\n",
              "      <td>Dans une casserole, je la fais fondre dans un ...</td>\n",
              "      <td>Fon</td>\n",
              "      <td>Ɖo ganzɛn kpɛvi mɛ ɔ, un hɛn sinsin ɖo sin zoz...</td>\n",
              "    </tr>\n",
              "  </tbody>\n",
              "</table>\n",
              "<p>75487 rows × 4 columns</p>\n",
              "</div>"
            ],
            "text/plain": [
              "                ID  ...                                             Target\n",
              "0      ID_AADNDxdl  ...                                              Tɔ ce\n",
              "1      ID_AAFQhmDr  ...                                        Mi tò miɖéé\n",
              "2      ID_AAHVDMdq  ...  Sénégal, Côte d'Ivoire, Guinée, Ghana, siwo ƒe...\n",
              "3      ID_AAJfVHEH  ...                               Alɔvi tɔn ɖo vivɛ wɛ\n",
              "4      ID_AAOJuhzN  ...                                             Jì bɛ́\n",
              "...            ...  ...                                                ...\n",
              "75482  ID_zzsOfbtD  ...                                          Kpl’ɛ́ yì\n",
              "75483  ID_zztJChgi  ...                        Jɔhɔn ɔ ɖo akpɔkpɔ sisε wε.\n",
              "75484  ID_zztqxmJe  ...                Nu asu ce kun hun ɔ, hun e lin a nε\n",
              "75485  ID_zzxVgzgw  ...                      Xwe elɔ mɛ, un na wli alɔ x’ɛ\n",
              "75486  ID_zzzEhSHN  ...  Ɖo ganzɛn kpɛvi mɛ ɔ, un hɛn sinsin ɖo sin zoz...\n",
              "\n",
              "[75487 rows x 4 columns]"
            ]
          },
          "metadata": {
            "tags": []
          },
          "execution_count": 4
        }
      ]
    },
    {
      "cell_type": "code",
      "metadata": {
        "colab": {
          "base_uri": "https://localhost:8080/",
          "height": 411
        },
        "id": "jcTASw2rEOoz",
        "outputId": "2a191629-a7dc-41db-8e5b-09db145bef1f"
      },
      "source": [
        "test_df"
      ],
      "id": "jcTASw2rEOoz",
      "execution_count": null,
      "outputs": [
        {
          "output_type": "execute_result",
          "data": {
            "text/html": [
              "<div>\n",
              "<style scoped>\n",
              "    .dataframe tbody tr th:only-of-type {\n",
              "        vertical-align: middle;\n",
              "    }\n",
              "\n",
              "    .dataframe tbody tr th {\n",
              "        vertical-align: top;\n",
              "    }\n",
              "\n",
              "    .dataframe thead th {\n",
              "        text-align: right;\n",
              "    }\n",
              "</style>\n",
              "<table border=\"1\" class=\"dataframe\">\n",
              "  <thead>\n",
              "    <tr style=\"text-align: right;\">\n",
              "      <th></th>\n",
              "      <th>ID</th>\n",
              "      <th>French</th>\n",
              "      <th>Target_Language</th>\n",
              "    </tr>\n",
              "  </thead>\n",
              "  <tbody>\n",
              "    <tr>\n",
              "      <th>0</th>\n",
              "      <td>ID_AAAAhgRX</td>\n",
              "      <td>Très fière d’elle</td>\n",
              "      <td>Ewe</td>\n",
              "    </tr>\n",
              "    <tr>\n",
              "      <th>1</th>\n",
              "      <td>ID_AAGuzGzi</td>\n",
              "      <td>Tous ces grands artistes viendront au Benin po...</td>\n",
              "      <td>Fon</td>\n",
              "    </tr>\n",
              "    <tr>\n",
              "      <th>2</th>\n",
              "      <td>ID_AAuiTPkQ</td>\n",
              "      <td>Ce programme va travailler à améliorer les con...</td>\n",
              "      <td>Fon</td>\n",
              "    </tr>\n",
              "    <tr>\n",
              "      <th>3</th>\n",
              "      <td>ID_ACYgGXTq</td>\n",
              "      <td>Quels sont les questions récurrentes de ceux ...</td>\n",
              "      <td>Fon</td>\n",
              "    </tr>\n",
              "    <tr>\n",
              "      <th>4</th>\n",
              "      <td>ID_AChdWHyF</td>\n",
              "      <td>Grosse bagnolle</td>\n",
              "      <td>Ewe</td>\n",
              "    </tr>\n",
              "    <tr>\n",
              "      <th>...</th>\n",
              "      <td>...</td>\n",
              "      <td>...</td>\n",
              "      <td>...</td>\n",
              "    </tr>\n",
              "    <tr>\n",
              "      <th>5888</th>\n",
              "      <td>ID_zwUBSGbf</td>\n",
              "      <td>On a encore du chemin à faire</td>\n",
              "      <td>Ewe</td>\n",
              "    </tr>\n",
              "    <tr>\n",
              "      <th>5889</th>\n",
              "      <td>ID_zwXoHFXd</td>\n",
              "      <td>Servez moi un verre de sodabi que je vais boire</td>\n",
              "      <td>Fon</td>\n",
              "    </tr>\n",
              "    <tr>\n",
              "      <th>5890</th>\n",
              "      <td>ID_zxgfwvGY</td>\n",
              "      <td>Aujourd’hui, la science n’a pas fini de percer...</td>\n",
              "      <td>Ewe</td>\n",
              "    </tr>\n",
              "    <tr>\n",
              "      <th>5891</th>\n",
              "      <td>ID_zyWQSnnG</td>\n",
              "      <td>Il n’a pas rêvé.</td>\n",
              "      <td>Fon</td>\n",
              "    </tr>\n",
              "    <tr>\n",
              "      <th>5892</th>\n",
              "      <td>ID_zzxMHWjm</td>\n",
              "      <td>Après, je suis passé au graff avec la bombe de...</td>\n",
              "      <td>Fon</td>\n",
              "    </tr>\n",
              "  </tbody>\n",
              "</table>\n",
              "<p>5893 rows × 3 columns</p>\n",
              "</div>"
            ],
            "text/plain": [
              "               ID  ... Target_Language\n",
              "0     ID_AAAAhgRX  ...             Ewe\n",
              "1     ID_AAGuzGzi  ...             Fon\n",
              "2     ID_AAuiTPkQ  ...             Fon\n",
              "3     ID_ACYgGXTq  ...             Fon\n",
              "4     ID_AChdWHyF  ...             Ewe\n",
              "...           ...  ...             ...\n",
              "5888  ID_zwUBSGbf  ...             Ewe\n",
              "5889  ID_zwXoHFXd  ...             Fon\n",
              "5890  ID_zxgfwvGY  ...             Ewe\n",
              "5891  ID_zyWQSnnG  ...             Fon\n",
              "5892  ID_zzxMHWjm  ...             Fon\n",
              "\n",
              "[5893 rows x 3 columns]"
            ]
          },
          "metadata": {
            "tags": []
          },
          "execution_count": 5
        }
      ]
    },
    {
      "cell_type": "code",
      "metadata": {
        "colab": {
          "base_uri": "https://localhost:8080/",
          "height": 411
        },
        "id": "PD7AsJOtAdvr",
        "outputId": "5732e6ee-1bbc-4dbc-81ed-e122ffe75e79"
      },
      "source": [
        "jw300_fon"
      ],
      "id": "PD7AsJOtAdvr",
      "execution_count": null,
      "outputs": [
        {
          "output_type": "execute_result",
          "data": {
            "text/html": [
              "<div>\n",
              "<style scoped>\n",
              "    .dataframe tbody tr th:only-of-type {\n",
              "        vertical-align: middle;\n",
              "    }\n",
              "\n",
              "    .dataframe tbody tr th {\n",
              "        vertical-align: top;\n",
              "    }\n",
              "\n",
              "    .dataframe thead th {\n",
              "        text-align: right;\n",
              "    }\n",
              "</style>\n",
              "<table border=\"1\" class=\"dataframe\">\n",
              "  <thead>\n",
              "    <tr style=\"text-align: right;\">\n",
              "      <th></th>\n",
              "      <th>fon</th>\n",
              "      <th>fr</th>\n",
              "    </tr>\n",
              "  </thead>\n",
              "  <tbody>\n",
              "    <tr>\n",
              "      <th>0</th>\n",
              "      <td>XOTA E ÐÒ AKPÀ Ɔ JÍ É | ETƐWU MǏ KA ÐÓ NA NƆ ...</td>\n",
              "      <td>EN COUVERTURE | POURQUOI ÊTRE HONNÊTE ?\\n</td>\n",
              "    </tr>\n",
              "    <tr>\n",
              "      <th>1</th>\n",
              "      <td>Hitoshi nɔ w’azɔ̌ ɖò azɔ̌xɔsa akwɛlínlɛ́n tɔn ...</td>\n",
              "      <td>Hitoshi travaillait dans le service de la comp...</td>\n",
              "    </tr>\n",
              "    <tr>\n",
              "      <th>2</th>\n",
              "      <td>Hwenu e é ɖò akwɛzinzan ɖé lɛ́n xá gǎn tɔn wɛ ...</td>\n",
              "      <td>Alors qu’il examinait un rapport financier ave...</td>\n",
              "    </tr>\n",
              "    <tr>\n",
              "      <th>3</th>\n",
              "      <td>Hitoshi tinmɛ ɖɔ ayixa emitɔn kún na yí gbè bo...</td>\n",
              "      <td>Hitoshi a expliqué que sa conscience ne lui pe...</td>\n",
              "    </tr>\n",
              "    <tr>\n",
              "      <th>4</th>\n",
              "      <td>É sín enɛ wu bɔ gǎn ɔ gblɔ́n adǎn n’i ɖɔ emi n...</td>\n",
              "      <td>Il a alors été menacé de licenciement .\\n</td>\n",
              "    </tr>\n",
              "    <tr>\n",
              "      <th>...</th>\n",
              "      <td>...</td>\n",
              "      <td>...</td>\n",
              "    </tr>\n",
              "    <tr>\n",
              "      <th>33357</th>\n",
              "      <td>\\n</td>\n",
              "      <td>Et je continue à compter sur Jéhovah en le pri...</td>\n",
              "    </tr>\n",
              "    <tr>\n",
              "      <th>33358</th>\n",
              "      <td>Gbɛ̌dido xá mɛ ɖěɖee nɔ ɖ’alɔ ɖò sinsɛnzɔ́ ɔ s...</td>\n",
              "      <td>» Nous avons peut - être des faiblesses diffic...</td>\n",
              "    </tr>\n",
              "    <tr>\n",
              "      <th>33359</th>\n",
              "      <td>Un lɛ́ kpó ɖò ɖɛ xò sɛ́dó Jehovah wɛ bo ganjɛ ...</td>\n",
              "      <td>Par exemple , perdre patience , nous mettre vi...</td>\n",
              "    </tr>\n",
              "    <tr>\n",
              "      <th>33360</th>\n",
              "      <td>\\n</td>\n",
              "      <td>Lutter contre nos faiblesses , c’est continuer...</td>\n",
              "    </tr>\n",
              "    <tr>\n",
              "      <th>33361</th>\n",
              "      <td>\\n</td>\n",
              "      <td>Ces efforts sont comparés à une lutte .\\n</td>\n",
              "    </tr>\n",
              "  </tbody>\n",
              "</table>\n",
              "<p>33362 rows × 2 columns</p>\n",
              "</div>"
            ],
            "text/plain": [
              "                                                     fon                                                 fr\n",
              "0      XOTA E ÐÒ AKPÀ Ɔ JÍ É | ETƐWU MǏ KA ÐÓ NA NƆ ...          EN COUVERTURE | POURQUOI ÊTRE HONNÊTE ?\\n\n",
              "1      Hitoshi nɔ w’azɔ̌ ɖò azɔ̌xɔsa akwɛlínlɛ́n tɔn ...  Hitoshi travaillait dans le service de la comp...\n",
              "2      Hwenu e é ɖò akwɛzinzan ɖé lɛ́n xá gǎn tɔn wɛ ...  Alors qu’il examinait un rapport financier ave...\n",
              "3      Hitoshi tinmɛ ɖɔ ayixa emitɔn kún na yí gbè bo...  Hitoshi a expliqué que sa conscience ne lui pe...\n",
              "4      É sín enɛ wu bɔ gǎn ɔ gblɔ́n adǎn n’i ɖɔ emi n...          Il a alors été menacé de licenciement .\\n\n",
              "...                                                  ...                                                ...\n",
              "33357                                                 \\n  Et je continue à compter sur Jéhovah en le pri...\n",
              "33358  Gbɛ̌dido xá mɛ ɖěɖee nɔ ɖ’alɔ ɖò sinsɛnzɔ́ ɔ s...  » Nous avons peut - être des faiblesses diffic...\n",
              "33359  Un lɛ́ kpó ɖò ɖɛ xò sɛ́dó Jehovah wɛ bo ganjɛ ...  Par exemple , perdre patience , nous mettre vi...\n",
              "33360                                                 \\n  Lutter contre nos faiblesses , c’est continuer...\n",
              "33361                                                 \\n          Ces efforts sont comparés à une lutte .\\n\n",
              "\n",
              "[33362 rows x 2 columns]"
            ]
          },
          "metadata": {
            "tags": []
          },
          "execution_count": 10
        }
      ]
    },
    {
      "cell_type": "code",
      "metadata": {
        "id": "3EAynyGyA3pY"
      },
      "source": [
        "# Get rid of rows with no translation\n",
        "# jw300_fon = jw300_fon.drop(jw300_fon[(jw300_fon.fon == '\\n') | (jw300_fon.fr == '\\n')].index)\n",
        "\n",
        "# Rename columns\n",
        "jw300_fon = jw300_fon.rename(columns={'fon': 'Target', 'fr': 'French'})\n",
        "\n",
        "# Add 'Target_Language' column\n",
        "jw300_fon['Target_Language'] = ['Fon'] * len(jw300_fon)\n",
        "\n",
        "# Add to train_df\n",
        "train_df = pd.concat([train_df, jw300_fon])"
      ],
      "id": "3EAynyGyA3pY",
      "execution_count": null,
      "outputs": []
    },
    {
      "cell_type": "code",
      "metadata": {
        "colab": {
          "base_uri": "https://localhost:8080/",
          "height": 545
        },
        "id": "built-agent",
        "outputId": "6b0d84b5-a334-4cda-fc68-83afeec963ef"
      },
      "source": [
        "train_df['output_sentence'] = train_df.apply(lambda row: row['Target'] + ' <end>', axis=1)\n",
        "train_df['output_sentence_input'] = train_df.apply(lambda row: '<start> ' + row['Target'], axis=1)\n",
        "train_df.drop(columns=['Target'], inplace=True)\n",
        "train_df"
      ],
      "id": "built-agent",
      "execution_count": null,
      "outputs": [
        {
          "output_type": "error",
          "ename": "KeyError",
          "evalue": "ignored",
          "traceback": [
            "\u001b[0;31m---------------------------------------------------------------------------\u001b[0m",
            "\u001b[0;31mKeyError\u001b[0m                                  Traceback (most recent call last)",
            "\u001b[0;32m/usr/local/lib/python3.7/dist-packages/pandas/core/indexes/base.py\u001b[0m in \u001b[0;36mget_loc\u001b[0;34m(self, key, method, tolerance)\u001b[0m\n\u001b[1;32m   2897\u001b[0m             \u001b[0;32mtry\u001b[0m\u001b[0;34m:\u001b[0m\u001b[0;34m\u001b[0m\u001b[0;34m\u001b[0m\u001b[0m\n\u001b[0;32m-> 2898\u001b[0;31m                 \u001b[0;32mreturn\u001b[0m \u001b[0mself\u001b[0m\u001b[0;34m.\u001b[0m\u001b[0m_engine\u001b[0m\u001b[0;34m.\u001b[0m\u001b[0mget_loc\u001b[0m\u001b[0;34m(\u001b[0m\u001b[0mcasted_key\u001b[0m\u001b[0;34m)\u001b[0m\u001b[0;34m\u001b[0m\u001b[0;34m\u001b[0m\u001b[0m\n\u001b[0m\u001b[1;32m   2899\u001b[0m             \u001b[0;32mexcept\u001b[0m \u001b[0mKeyError\u001b[0m \u001b[0;32mas\u001b[0m \u001b[0merr\u001b[0m\u001b[0;34m:\u001b[0m\u001b[0;34m\u001b[0m\u001b[0;34m\u001b[0m\u001b[0m\n",
            "\u001b[0;32mpandas/_libs/index.pyx\u001b[0m in \u001b[0;36mpandas._libs.index.IndexEngine.get_loc\u001b[0;34m()\u001b[0m\n",
            "\u001b[0;32mpandas/_libs/index.pyx\u001b[0m in \u001b[0;36mpandas._libs.index.IndexEngine.get_loc\u001b[0;34m()\u001b[0m\n",
            "\u001b[0;32mpandas/_libs/hashtable_class_helper.pxi\u001b[0m in \u001b[0;36mpandas._libs.hashtable.PyObjectHashTable.get_item\u001b[0;34m()\u001b[0m\n",
            "\u001b[0;32mpandas/_libs/hashtable_class_helper.pxi\u001b[0m in \u001b[0;36mpandas._libs.hashtable.PyObjectHashTable.get_item\u001b[0;34m()\u001b[0m\n",
            "\u001b[0;31mKeyError\u001b[0m: 'Target'",
            "\nThe above exception was the direct cause of the following exception:\n",
            "\u001b[0;31mKeyError\u001b[0m                                  Traceback (most recent call last)",
            "\u001b[0;32m<ipython-input-18-3d48494b8578>\u001b[0m in \u001b[0;36m<module>\u001b[0;34m()\u001b[0m\n\u001b[0;32m----> 1\u001b[0;31m \u001b[0mtrain_df\u001b[0m\u001b[0;34m[\u001b[0m\u001b[0;34m'output_sentence'\u001b[0m\u001b[0;34m]\u001b[0m \u001b[0;34m=\u001b[0m \u001b[0mtrain_df\u001b[0m\u001b[0;34m.\u001b[0m\u001b[0mapply\u001b[0m\u001b[0;34m(\u001b[0m\u001b[0;32mlambda\u001b[0m \u001b[0mrow\u001b[0m\u001b[0;34m:\u001b[0m \u001b[0mrow\u001b[0m\u001b[0;34m[\u001b[0m\u001b[0;34m'Target'\u001b[0m\u001b[0;34m]\u001b[0m \u001b[0;34m+\u001b[0m \u001b[0;34m' <end>'\u001b[0m\u001b[0;34m,\u001b[0m \u001b[0maxis\u001b[0m\u001b[0;34m=\u001b[0m\u001b[0;36m1\u001b[0m\u001b[0;34m)\u001b[0m\u001b[0;34m\u001b[0m\u001b[0;34m\u001b[0m\u001b[0m\n\u001b[0m\u001b[1;32m      2\u001b[0m \u001b[0mtrain_df\u001b[0m\u001b[0;34m[\u001b[0m\u001b[0;34m'output_sentence_input'\u001b[0m\u001b[0;34m]\u001b[0m \u001b[0;34m=\u001b[0m \u001b[0mtrain_df\u001b[0m\u001b[0;34m.\u001b[0m\u001b[0mapply\u001b[0m\u001b[0;34m(\u001b[0m\u001b[0;32mlambda\u001b[0m \u001b[0mrow\u001b[0m\u001b[0;34m:\u001b[0m \u001b[0;34m'<start> '\u001b[0m \u001b[0;34m+\u001b[0m \u001b[0mrow\u001b[0m\u001b[0;34m[\u001b[0m\u001b[0;34m'Target'\u001b[0m\u001b[0;34m]\u001b[0m\u001b[0;34m,\u001b[0m \u001b[0maxis\u001b[0m\u001b[0;34m=\u001b[0m\u001b[0;36m1\u001b[0m\u001b[0;34m)\u001b[0m\u001b[0;34m\u001b[0m\u001b[0;34m\u001b[0m\u001b[0m\n\u001b[1;32m      3\u001b[0m \u001b[0mtrain_df\u001b[0m\u001b[0;34m.\u001b[0m\u001b[0mdrop\u001b[0m\u001b[0;34m(\u001b[0m\u001b[0mcolumns\u001b[0m\u001b[0;34m=\u001b[0m\u001b[0;34m[\u001b[0m\u001b[0;34m'Target'\u001b[0m\u001b[0;34m]\u001b[0m\u001b[0;34m,\u001b[0m \u001b[0minplace\u001b[0m\u001b[0;34m=\u001b[0m\u001b[0;32mTrue\u001b[0m\u001b[0;34m)\u001b[0m\u001b[0;34m\u001b[0m\u001b[0;34m\u001b[0m\u001b[0m\n\u001b[1;32m      4\u001b[0m \u001b[0mtrain_df\u001b[0m\u001b[0;34m\u001b[0m\u001b[0;34m\u001b[0m\u001b[0m\n",
            "\u001b[0;32m/usr/local/lib/python3.7/dist-packages/pandas/core/frame.py\u001b[0m in \u001b[0;36mapply\u001b[0;34m(self, func, axis, raw, result_type, args, **kwds)\u001b[0m\n\u001b[1;32m   7550\u001b[0m             \u001b[0mkwds\u001b[0m\u001b[0;34m=\u001b[0m\u001b[0mkwds\u001b[0m\u001b[0;34m,\u001b[0m\u001b[0;34m\u001b[0m\u001b[0;34m\u001b[0m\u001b[0m\n\u001b[1;32m   7551\u001b[0m         )\n\u001b[0;32m-> 7552\u001b[0;31m         \u001b[0;32mreturn\u001b[0m \u001b[0mop\u001b[0m\u001b[0;34m.\u001b[0m\u001b[0mget_result\u001b[0m\u001b[0;34m(\u001b[0m\u001b[0;34m)\u001b[0m\u001b[0;34m\u001b[0m\u001b[0;34m\u001b[0m\u001b[0m\n\u001b[0m\u001b[1;32m   7553\u001b[0m \u001b[0;34m\u001b[0m\u001b[0m\n\u001b[1;32m   7554\u001b[0m     \u001b[0;32mdef\u001b[0m \u001b[0mapplymap\u001b[0m\u001b[0;34m(\u001b[0m\u001b[0mself\u001b[0m\u001b[0;34m,\u001b[0m \u001b[0mfunc\u001b[0m\u001b[0;34m)\u001b[0m \u001b[0;34m->\u001b[0m \u001b[0;34m\"DataFrame\"\u001b[0m\u001b[0;34m:\u001b[0m\u001b[0;34m\u001b[0m\u001b[0;34m\u001b[0m\u001b[0m\n",
            "\u001b[0;32m/usr/local/lib/python3.7/dist-packages/pandas/core/apply.py\u001b[0m in \u001b[0;36mget_result\u001b[0;34m(self)\u001b[0m\n\u001b[1;32m    183\u001b[0m             \u001b[0;32mreturn\u001b[0m \u001b[0mself\u001b[0m\u001b[0;34m.\u001b[0m\u001b[0mapply_raw\u001b[0m\u001b[0;34m(\u001b[0m\u001b[0;34m)\u001b[0m\u001b[0;34m\u001b[0m\u001b[0;34m\u001b[0m\u001b[0m\n\u001b[1;32m    184\u001b[0m \u001b[0;34m\u001b[0m\u001b[0m\n\u001b[0;32m--> 185\u001b[0;31m         \u001b[0;32mreturn\u001b[0m \u001b[0mself\u001b[0m\u001b[0;34m.\u001b[0m\u001b[0mapply_standard\u001b[0m\u001b[0;34m(\u001b[0m\u001b[0;34m)\u001b[0m\u001b[0;34m\u001b[0m\u001b[0;34m\u001b[0m\u001b[0m\n\u001b[0m\u001b[1;32m    186\u001b[0m \u001b[0;34m\u001b[0m\u001b[0m\n\u001b[1;32m    187\u001b[0m     \u001b[0;32mdef\u001b[0m \u001b[0mapply_empty_result\u001b[0m\u001b[0;34m(\u001b[0m\u001b[0mself\u001b[0m\u001b[0;34m)\u001b[0m\u001b[0;34m:\u001b[0m\u001b[0;34m\u001b[0m\u001b[0;34m\u001b[0m\u001b[0m\n",
            "\u001b[0;32m/usr/local/lib/python3.7/dist-packages/pandas/core/apply.py\u001b[0m in \u001b[0;36mapply_standard\u001b[0;34m(self)\u001b[0m\n\u001b[1;32m    274\u001b[0m \u001b[0;34m\u001b[0m\u001b[0m\n\u001b[1;32m    275\u001b[0m     \u001b[0;32mdef\u001b[0m \u001b[0mapply_standard\u001b[0m\u001b[0;34m(\u001b[0m\u001b[0mself\u001b[0m\u001b[0;34m)\u001b[0m\u001b[0;34m:\u001b[0m\u001b[0;34m\u001b[0m\u001b[0;34m\u001b[0m\u001b[0m\n\u001b[0;32m--> 276\u001b[0;31m         \u001b[0mresults\u001b[0m\u001b[0;34m,\u001b[0m \u001b[0mres_index\u001b[0m \u001b[0;34m=\u001b[0m \u001b[0mself\u001b[0m\u001b[0;34m.\u001b[0m\u001b[0mapply_series_generator\u001b[0m\u001b[0;34m(\u001b[0m\u001b[0;34m)\u001b[0m\u001b[0;34m\u001b[0m\u001b[0;34m\u001b[0m\u001b[0m\n\u001b[0m\u001b[1;32m    277\u001b[0m \u001b[0;34m\u001b[0m\u001b[0m\n\u001b[1;32m    278\u001b[0m         \u001b[0;31m# wrap results\u001b[0m\u001b[0;34m\u001b[0m\u001b[0;34m\u001b[0m\u001b[0;34m\u001b[0m\u001b[0m\n",
            "\u001b[0;32m/usr/local/lib/python3.7/dist-packages/pandas/core/apply.py\u001b[0m in \u001b[0;36mapply_series_generator\u001b[0;34m(self)\u001b[0m\n\u001b[1;32m    303\u001b[0m                 \u001b[0;32mfor\u001b[0m \u001b[0mi\u001b[0m\u001b[0;34m,\u001b[0m \u001b[0mv\u001b[0m \u001b[0;32min\u001b[0m \u001b[0menumerate\u001b[0m\u001b[0;34m(\u001b[0m\u001b[0mseries_gen\u001b[0m\u001b[0;34m)\u001b[0m\u001b[0;34m:\u001b[0m\u001b[0;34m\u001b[0m\u001b[0;34m\u001b[0m\u001b[0m\n\u001b[1;32m    304\u001b[0m                     \u001b[0;31m# ignore SettingWithCopy here in case the user mutates\u001b[0m\u001b[0;34m\u001b[0m\u001b[0;34m\u001b[0m\u001b[0;34m\u001b[0m\u001b[0m\n\u001b[0;32m--> 305\u001b[0;31m                     \u001b[0mresults\u001b[0m\u001b[0;34m[\u001b[0m\u001b[0mi\u001b[0m\u001b[0;34m]\u001b[0m \u001b[0;34m=\u001b[0m \u001b[0mself\u001b[0m\u001b[0;34m.\u001b[0m\u001b[0mf\u001b[0m\u001b[0;34m(\u001b[0m\u001b[0mv\u001b[0m\u001b[0;34m)\u001b[0m\u001b[0;34m\u001b[0m\u001b[0;34m\u001b[0m\u001b[0m\n\u001b[0m\u001b[1;32m    306\u001b[0m                     \u001b[0;32mif\u001b[0m \u001b[0misinstance\u001b[0m\u001b[0;34m(\u001b[0m\u001b[0mresults\u001b[0m\u001b[0;34m[\u001b[0m\u001b[0mi\u001b[0m\u001b[0;34m]\u001b[0m\u001b[0;34m,\u001b[0m \u001b[0mABCSeries\u001b[0m\u001b[0;34m)\u001b[0m\u001b[0;34m:\u001b[0m\u001b[0;34m\u001b[0m\u001b[0;34m\u001b[0m\u001b[0m\n\u001b[1;32m    307\u001b[0m                         \u001b[0;31m# If we have a view on v, we need to make a copy because\u001b[0m\u001b[0;34m\u001b[0m\u001b[0;34m\u001b[0m\u001b[0;34m\u001b[0m\u001b[0m\n",
            "\u001b[0;32m<ipython-input-18-3d48494b8578>\u001b[0m in \u001b[0;36m<lambda>\u001b[0;34m(row)\u001b[0m\n\u001b[0;32m----> 1\u001b[0;31m \u001b[0mtrain_df\u001b[0m\u001b[0;34m[\u001b[0m\u001b[0;34m'output_sentence'\u001b[0m\u001b[0;34m]\u001b[0m \u001b[0;34m=\u001b[0m \u001b[0mtrain_df\u001b[0m\u001b[0;34m.\u001b[0m\u001b[0mapply\u001b[0m\u001b[0;34m(\u001b[0m\u001b[0;32mlambda\u001b[0m \u001b[0mrow\u001b[0m\u001b[0;34m:\u001b[0m \u001b[0mrow\u001b[0m\u001b[0;34m[\u001b[0m\u001b[0;34m'Target'\u001b[0m\u001b[0;34m]\u001b[0m \u001b[0;34m+\u001b[0m \u001b[0;34m' <end>'\u001b[0m\u001b[0;34m,\u001b[0m \u001b[0maxis\u001b[0m\u001b[0;34m=\u001b[0m\u001b[0;36m1\u001b[0m\u001b[0;34m)\u001b[0m\u001b[0;34m\u001b[0m\u001b[0;34m\u001b[0m\u001b[0m\n\u001b[0m\u001b[1;32m      2\u001b[0m \u001b[0mtrain_df\u001b[0m\u001b[0;34m[\u001b[0m\u001b[0;34m'output_sentence_input'\u001b[0m\u001b[0;34m]\u001b[0m \u001b[0;34m=\u001b[0m \u001b[0mtrain_df\u001b[0m\u001b[0;34m.\u001b[0m\u001b[0mapply\u001b[0m\u001b[0;34m(\u001b[0m\u001b[0;32mlambda\u001b[0m \u001b[0mrow\u001b[0m\u001b[0;34m:\u001b[0m \u001b[0;34m'<start> '\u001b[0m \u001b[0;34m+\u001b[0m \u001b[0mrow\u001b[0m\u001b[0;34m[\u001b[0m\u001b[0;34m'Target'\u001b[0m\u001b[0;34m]\u001b[0m\u001b[0;34m,\u001b[0m \u001b[0maxis\u001b[0m\u001b[0;34m=\u001b[0m\u001b[0;36m1\u001b[0m\u001b[0;34m)\u001b[0m\u001b[0;34m\u001b[0m\u001b[0;34m\u001b[0m\u001b[0m\n\u001b[1;32m      3\u001b[0m \u001b[0mtrain_df\u001b[0m\u001b[0;34m.\u001b[0m\u001b[0mdrop\u001b[0m\u001b[0;34m(\u001b[0m\u001b[0mcolumns\u001b[0m\u001b[0;34m=\u001b[0m\u001b[0;34m[\u001b[0m\u001b[0;34m'Target'\u001b[0m\u001b[0;34m]\u001b[0m\u001b[0;34m,\u001b[0m \u001b[0minplace\u001b[0m\u001b[0;34m=\u001b[0m\u001b[0;32mTrue\u001b[0m\u001b[0;34m)\u001b[0m\u001b[0;34m\u001b[0m\u001b[0;34m\u001b[0m\u001b[0m\n\u001b[1;32m      4\u001b[0m \u001b[0mtrain_df\u001b[0m\u001b[0;34m\u001b[0m\u001b[0;34m\u001b[0m\u001b[0m\n",
            "\u001b[0;32m/usr/local/lib/python3.7/dist-packages/pandas/core/series.py\u001b[0m in \u001b[0;36m__getitem__\u001b[0;34m(self, key)\u001b[0m\n\u001b[1;32m    880\u001b[0m \u001b[0;34m\u001b[0m\u001b[0m\n\u001b[1;32m    881\u001b[0m         \u001b[0;32melif\u001b[0m \u001b[0mkey_is_scalar\u001b[0m\u001b[0;34m:\u001b[0m\u001b[0;34m\u001b[0m\u001b[0;34m\u001b[0m\u001b[0m\n\u001b[0;32m--> 882\u001b[0;31m             \u001b[0;32mreturn\u001b[0m \u001b[0mself\u001b[0m\u001b[0;34m.\u001b[0m\u001b[0m_get_value\u001b[0m\u001b[0;34m(\u001b[0m\u001b[0mkey\u001b[0m\u001b[0;34m)\u001b[0m\u001b[0;34m\u001b[0m\u001b[0;34m\u001b[0m\u001b[0m\n\u001b[0m\u001b[1;32m    883\u001b[0m \u001b[0;34m\u001b[0m\u001b[0m\n\u001b[1;32m    884\u001b[0m         \u001b[0;32mif\u001b[0m \u001b[0mis_hashable\u001b[0m\u001b[0;34m(\u001b[0m\u001b[0mkey\u001b[0m\u001b[0;34m)\u001b[0m\u001b[0;34m:\u001b[0m\u001b[0;34m\u001b[0m\u001b[0;34m\u001b[0m\u001b[0m\n",
            "\u001b[0;32m/usr/local/lib/python3.7/dist-packages/pandas/core/series.py\u001b[0m in \u001b[0;36m_get_value\u001b[0;34m(self, label, takeable)\u001b[0m\n\u001b[1;32m    988\u001b[0m \u001b[0;34m\u001b[0m\u001b[0m\n\u001b[1;32m    989\u001b[0m         \u001b[0;31m# Similar to Index.get_value, but we do not fall back to positional\u001b[0m\u001b[0;34m\u001b[0m\u001b[0;34m\u001b[0m\u001b[0;34m\u001b[0m\u001b[0m\n\u001b[0;32m--> 990\u001b[0;31m         \u001b[0mloc\u001b[0m \u001b[0;34m=\u001b[0m \u001b[0mself\u001b[0m\u001b[0;34m.\u001b[0m\u001b[0mindex\u001b[0m\u001b[0;34m.\u001b[0m\u001b[0mget_loc\u001b[0m\u001b[0;34m(\u001b[0m\u001b[0mlabel\u001b[0m\u001b[0;34m)\u001b[0m\u001b[0;34m\u001b[0m\u001b[0;34m\u001b[0m\u001b[0m\n\u001b[0m\u001b[1;32m    991\u001b[0m         \u001b[0;32mreturn\u001b[0m \u001b[0mself\u001b[0m\u001b[0;34m.\u001b[0m\u001b[0mindex\u001b[0m\u001b[0;34m.\u001b[0m\u001b[0m_get_values_for_loc\u001b[0m\u001b[0;34m(\u001b[0m\u001b[0mself\u001b[0m\u001b[0;34m,\u001b[0m \u001b[0mloc\u001b[0m\u001b[0;34m,\u001b[0m \u001b[0mlabel\u001b[0m\u001b[0;34m)\u001b[0m\u001b[0;34m\u001b[0m\u001b[0;34m\u001b[0m\u001b[0m\n\u001b[1;32m    992\u001b[0m \u001b[0;34m\u001b[0m\u001b[0m\n",
            "\u001b[0;32m/usr/local/lib/python3.7/dist-packages/pandas/core/indexes/base.py\u001b[0m in \u001b[0;36mget_loc\u001b[0;34m(self, key, method, tolerance)\u001b[0m\n\u001b[1;32m   2898\u001b[0m                 \u001b[0;32mreturn\u001b[0m \u001b[0mself\u001b[0m\u001b[0;34m.\u001b[0m\u001b[0m_engine\u001b[0m\u001b[0;34m.\u001b[0m\u001b[0mget_loc\u001b[0m\u001b[0;34m(\u001b[0m\u001b[0mcasted_key\u001b[0m\u001b[0;34m)\u001b[0m\u001b[0;34m\u001b[0m\u001b[0;34m\u001b[0m\u001b[0m\n\u001b[1;32m   2899\u001b[0m             \u001b[0;32mexcept\u001b[0m \u001b[0mKeyError\u001b[0m \u001b[0;32mas\u001b[0m \u001b[0merr\u001b[0m\u001b[0;34m:\u001b[0m\u001b[0;34m\u001b[0m\u001b[0;34m\u001b[0m\u001b[0m\n\u001b[0;32m-> 2900\u001b[0;31m                 \u001b[0;32mraise\u001b[0m \u001b[0mKeyError\u001b[0m\u001b[0;34m(\u001b[0m\u001b[0mkey\u001b[0m\u001b[0;34m)\u001b[0m \u001b[0;32mfrom\u001b[0m \u001b[0merr\u001b[0m\u001b[0;34m\u001b[0m\u001b[0;34m\u001b[0m\u001b[0m\n\u001b[0m\u001b[1;32m   2901\u001b[0m \u001b[0;34m\u001b[0m\u001b[0m\n\u001b[1;32m   2902\u001b[0m         \u001b[0;32mif\u001b[0m \u001b[0mtolerance\u001b[0m \u001b[0;32mis\u001b[0m \u001b[0;32mnot\u001b[0m \u001b[0;32mNone\u001b[0m\u001b[0;34m:\u001b[0m\u001b[0;34m\u001b[0m\u001b[0;34m\u001b[0m\u001b[0m\n",
            "\u001b[0;31mKeyError\u001b[0m: 'Target'"
          ]
        }
      ]
    },
    {
      "cell_type": "markdown",
      "metadata": {
        "id": "6OGEhcm67MTQ"
      },
      "source": [
        "# Fongbe"
      ],
      "id": "6OGEhcm67MTQ"
    },
    {
      "cell_type": "markdown",
      "metadata": {
        "id": "6JYcWFiI7onF"
      },
      "source": [
        "## Parameters"
      ],
      "id": "6JYcWFiI7onF"
    },
    {
      "cell_type": "code",
      "metadata": {
        "id": "7bBmQoAF7nfn"
      },
      "source": [
        "FONGBE_MAX_SENTENCES = 100000\n",
        "FONGBE_MAX_NUM_WORDS = 50000\n",
        "LSTM_SIZE = 512\n",
        "EMBEDDING_SIZE = 200\n",
        "BATCH_SIZE = 64\n",
        "EPOCHS = 20"
      ],
      "id": "7bBmQoAF7nfn",
      "execution_count": null,
      "outputs": []
    },
    {
      "cell_type": "markdown",
      "metadata": {
        "id": "ranging-antibody"
      },
      "source": [
        "## Preprocessing"
      ],
      "id": "ranging-antibody"
    },
    {
      "cell_type": "code",
      "metadata": {
        "id": "dental-tours"
      },
      "source": [
        "fongbe_input_sentences = train_df[train_df['Target_Language'] == 'Fon']['French'].values[:FONGBE_MAX_SENTENCES]\n",
        "fongbe_output_sentences = train_df[train_df['Target_Language'] == 'Fon']['output_sentence'].values[:FONGBE_MAX_SENTENCES]\n",
        "fongbe_output_sentences_inputs = train_df[train_df['Target_Language'] == 'Fon']['output_sentence_input'].values[:FONGBE_MAX_SENTENCES]\n",
        "\n",
        "fongbe_test_sentences = test_df[test_df['Target_Language'] == 'Fon']['French'].values[:FONGBE_MAX_SENTENCES]"
      ],
      "id": "dental-tours",
      "execution_count": null,
      "outputs": []
    },
    {
      "cell_type": "code",
      "metadata": {
        "colab": {
          "base_uri": "https://localhost:8080/"
        },
        "id": "wired-average",
        "outputId": "4bfaa569-ad22-4bbd-cd82-3eb066b71116"
      },
      "source": [
        "print(fongbe_input_sentences[100], fongbe_output_sentences[100], fongbe_output_sentences_inputs[100], fongbe_test_sentences[100], sep='\\n')"
      ],
      "id": "wired-average",
      "execution_count": null,
      "outputs": [
        {
          "output_type": "stream",
          "text": [
            "J’allais chez lui.\n",
            "Un nɔ yi gɔ́n tɔn ɖáyi <end>\n",
            "<start> Un nɔ yi gɔ́n tɔn ɖáyi\n",
            "Vous avez eu faim mais vous n’avez pas mangé parce qu’il n’y avait pas assez d’argent ou d’autres ressources pour vous procurer à manger\n"
          ],
          "name": "stdout"
        }
      ]
    },
    {
      "cell_type": "code",
      "metadata": {
        "id": "exceptional-venue"
      },
      "source": [
        "def tokenize_input(sentences, test_sentences, max_num_words):\n",
        "    input_tokenizer = Tokenizer(num_words=max_num_words)\n",
        "    input_tokenizer.fit_on_texts(np.append(sentences, test_sentences))\n",
        "    input_int_seq = input_tokenizer.texts_to_sequences(sentences)\n",
        "    test_int_seq = input_tokenizer.texts_to_sequences(test_sentences)\n",
        "    \n",
        "    word2idx_inputs = input_tokenizer.word_index\n",
        "    print('Unique words in the input:', len(word2idx_inputs))\n",
        "    \n",
        "    num_words = min(max_num_words, len(word2idx_inputs) + 1)\n",
        "    \n",
        "    max_input_len = max(len(s) for s in input_int_seq)\n",
        "    max_test_len = max(len(s) for s in test_int_seq)\n",
        "    max_input_len = max(max_input_len, max_test_len)\n",
        "\n",
        "    print('Longest sentence length:', max_input_len)\n",
        "    \n",
        "    return input_int_seq, test_int_seq, max_input_len, num_words, word2idx_inputs\n",
        "\n",
        "def tokenize_output(sentences, sentences_inputs, max_num_words):\n",
        "    output_tokenizer = Tokenizer(num_words=max_num_words, filters='')\n",
        "    output_tokenizer.fit_on_texts(np.append(sentences, sentences_inputs))\n",
        "    output_int_seq = output_tokenizer.texts_to_sequences(sentences)\n",
        "    output_input_int_seq = output_tokenizer.texts_to_sequences(sentences_inputs)\n",
        "    \n",
        "    word2idx_outputs = output_tokenizer.word_index\n",
        "    print('Unique words in the output:', len(word2idx_outputs))\n",
        "        \n",
        "    num_words_output = len(word2idx_outputs) + 1\n",
        "    max_output_len= max(len(s) for s in output_int_seq)\n",
        "    print('Longest sentence length:', max_output_len)\n",
        "    \n",
        "    return output_int_seq, output_input_int_seq, max_output_len, num_words_output, word2idx_outputs"
      ],
      "id": "exceptional-venue",
      "execution_count": null,
      "outputs": []
    },
    {
      "cell_type": "code",
      "metadata": {
        "colab": {
          "base_uri": "https://localhost:8080/"
        },
        "id": "complicated-grass",
        "outputId": "ff4187e9-5f05-4439-9daf-d64bbfb227e7"
      },
      "source": [
        "fongbe_input_int_seq, fongbe_test_int_seq, fongbe_max_input_len, fongbe_num_words, fongbe_word2idx_inputs = tokenize_input(fongbe_input_sentences, fongbe_test_sentences, FONGBE_MAX_NUM_WORDS)\n",
        "fongbe_output_int_seq, fongbe_output_input_int_seq, fongbe_max_output_len, fongbe_num_words_output, fongbe_word2idx_outputs = tokenize_output(fongbe_output_sentences, fongbe_output_sentences_inputs, FONGBE_MAX_NUM_WORDS)"
      ],
      "id": "complicated-grass",
      "execution_count": null,
      "outputs": [
        {
          "output_type": "stream",
          "text": [
            "Unique words in the input: 29354\n",
            "Longest sentence length: 119\n",
            "Unique words in the output: 19853\n",
            "Longest sentence length: 173\n"
          ],
          "name": "stdout"
        }
      ]
    },
    {
      "cell_type": "code",
      "metadata": {
        "id": "upset-secretariat"
      },
      "source": [
        "fongbe_encoder_input_sequences = pad_sequences(fongbe_input_int_seq, maxlen=fongbe_max_input_len)\n",
        "fongbe_decoder_input_sequences = pad_sequences(fongbe_output_input_int_seq, maxlen=fongbe_max_output_len, padding='post')\n",
        "fongbe_decoder_output_sequences = pad_sequences(fongbe_output_int_seq, maxlen=fongbe_max_output_len, padding='post')\n",
        "\n",
        "fongbe_test_sequences = pad_sequences(fongbe_test_int_seq, maxlen=fongbe_max_input_len)"
      ],
      "id": "upset-secretariat",
      "execution_count": null,
      "outputs": []
    },
    {
      "cell_type": "markdown",
      "metadata": {
        "id": "asian-procurement"
      },
      "source": [
        "## Model"
      ],
      "id": "asian-procurement"
    },
    {
      "cell_type": "code",
      "metadata": {
        "id": "0XjzkE9pn94j"
      },
      "source": [
        "X_train_fongbe_encoder, X_test_fongbe_encoder, X_train_fongbe_decoder, X_test_fongbe_decoder, y_train_fongbe, y_test_fongbe = train_test_split(fongbe_encoder_input_sequences, fongbe_decoder_input_sequences, fongbe_decoder_output_sequences, test_size=0.2)"
      ],
      "id": "0XjzkE9pn94j",
      "execution_count": null,
      "outputs": []
    },
    {
      "cell_type": "code",
      "metadata": {
        "id": "hJF47QqJUVpm"
      },
      "source": [
        "def generate_batch(X_encoder, X_decoder, y, batch_size, max_output_len, num_words_output):\n",
        "    while True:\n",
        "        for j in range(0, len(X_encoder), batch_size):\n",
        "            X_encoder_batch = X_encoder[j:j+batch_size]\n",
        "            X_decoder_batch = X_decoder[j:j+batch_size]\n",
        "            y_one_hot_batch = np.zeros((len(X_encoder_batch), max_output_len, num_words_output),dtype='float32')\n",
        "\n",
        "            for i, d in enumerate(y[j:j+batch_size]):\n",
        "              for t, word in enumerate(d):\n",
        "                y_one_hot_batch[i, t, word] = 1\n",
        "\n",
        "            yield([X_encoder_batch, X_decoder_batch], y_one_hot_batch)\n"
      ],
      "id": "hJF47QqJUVpm",
      "execution_count": null,
      "outputs": []
    },
    {
      "cell_type": "code",
      "metadata": {
        "id": "ZhmeVcSvoMC7"
      },
      "source": [
        "encoder_inputs = Input(shape=(fongbe_max_input_len,))\n",
        "x = Embedding(fongbe_num_words, EMBEDDING_SIZE)(encoder_inputs)\n",
        "x, state_h, state_c = LSTM(LSTM_SIZE, return_state=True)(x)\n",
        "encoder_states = [state_h, state_c]\n",
        "\n",
        "# Set up the decoder, using `encoder_states` as initial state.\n",
        "decoder_inputs = Input(shape=(fongbe_max_output_len,))\n",
        "decoder_embedding = Embedding(fongbe_num_words_output, EMBEDDING_SIZE)\n",
        "decoder_inputs_x = decoder_embedding(decoder_inputs)\n",
        "\n",
        "decoder_lstm = LSTM(LSTM_SIZE, return_sequences=True, return_state=True)\n",
        "decoder_outputs, _, _ = decoder_lstm(decoder_inputs_x, initial_state=encoder_states)\n",
        "\n",
        "decoder_dense = Dense(fongbe_num_words_output, activation='softmax')\n",
        "decoder_outputs = decoder_dense(decoder_outputs)\n",
        "\n",
        "# Define the model that will turn\n",
        "# `encoder_input_data` & `decoder_input_data` into `decoder_target_data`\n",
        "fongbe_model = Model([encoder_inputs, decoder_inputs], decoder_outputs)"
      ],
      "id": "ZhmeVcSvoMC7",
      "execution_count": null,
      "outputs": []
    },
    {
      "cell_type": "code",
      "metadata": {
        "colab": {
          "base_uri": "https://localhost:8080/"
        },
        "id": "TmTY0SjI7hXN",
        "outputId": "63748aa9-1c8c-4f42-c0bd-c5f2debc9402"
      },
      "source": [
        "fongbe_model.summary()"
      ],
      "id": "TmTY0SjI7hXN",
      "execution_count": null,
      "outputs": [
        {
          "output_type": "stream",
          "text": [
            "Model: \"model\"\n",
            "__________________________________________________________________________________________________\n",
            "Layer (type)                    Output Shape         Param #     Connected to                     \n",
            "==================================================================================================\n",
            "input_1 (InputLayer)            [(None, 119)]        0                                            \n",
            "__________________________________________________________________________________________________\n",
            "input_2 (InputLayer)            [(None, 173)]        0                                            \n",
            "__________________________________________________________________________________________________\n",
            "embedding (Embedding)           (None, 119, 200)     5871000     input_1[0][0]                    \n",
            "__________________________________________________________________________________________________\n",
            "embedding_1 (Embedding)         (None, 173, 200)     3970800     input_2[0][0]                    \n",
            "__________________________________________________________________________________________________\n",
            "lstm (LSTM)                     [(None, 512), (None, 1460224     embedding[0][0]                  \n",
            "__________________________________________________________________________________________________\n",
            "lstm_1 (LSTM)                   [(None, 173, 512), ( 1460224     embedding_1[0][0]                \n",
            "                                                                 lstm[0][1]                       \n",
            "                                                                 lstm[0][2]                       \n",
            "__________________________________________________________________________________________________\n",
            "dense (Dense)                   (None, 173, 19854)   10185102    lstm_1[0][0]                     \n",
            "==================================================================================================\n",
            "Total params: 22,947,350\n",
            "Trainable params: 22,947,350\n",
            "Non-trainable params: 0\n",
            "__________________________________________________________________________________________________\n"
          ],
          "name": "stdout"
        }
      ]
    },
    {
      "cell_type": "code",
      "metadata": {
        "id": "flying-rhythm"
      },
      "source": [
        "fongbe_model.compile(optimizer='rmsprop', loss='categorical_crossentropy', metrics=['accuracy'])"
      ],
      "id": "flying-rhythm",
      "execution_count": null,
      "outputs": []
    },
    {
      "cell_type": "code",
      "metadata": {
        "colab": {
          "base_uri": "https://localhost:8080/"
        },
        "id": "eW89WluMcm79",
        "outputId": "b8116d93-ed8d-49ac-bd1b-b2bf3e1b950d"
      },
      "source": [
        "fongbe_history = fongbe_model.fit(\n",
        "    generate_batch(X_train_fongbe_encoder, X_train_fongbe_decoder, y_train_fongbe, BATCH_SIZE, fongbe_max_output_len, fongbe_num_words_output),\n",
        "    steps_per_epoch=math.ceil(len(X_train_fongbe_encoder)/BATCH_SIZE),\n",
        "    epochs=EPOCHS,\n",
        "    validation_data=generate_batch(X_test_fongbe_encoder, X_test_fongbe_decoder, y_test_fongbe, BATCH_SIZE, fongbe_max_output_len, fongbe_num_words_output),\n",
        "    validation_steps=math.ceil(len(X_test_fongbe_encoder)/BATCH_SIZE)\n",
        ")"
      ],
      "id": "eW89WluMcm79",
      "execution_count": null,
      "outputs": [
        {
          "output_type": "stream",
          "text": [
            "Epoch 1/20\n",
            "1071/1071 [==============================] - 932s 839ms/step - loss: 0.6670 - accuracy: 0.9198 - val_loss: 0.3565 - val_accuracy: 0.9385\n",
            "Epoch 2/20\n",
            "1071/1071 [==============================] - 907s 847ms/step - loss: 0.3438 - accuracy: 0.9401 - val_loss: 0.3187 - val_accuracy: 0.9436\n",
            "Epoch 3/20\n",
            "1071/1071 [==============================] - 907s 847ms/step - loss: 0.3077 - accuracy: 0.9449 - val_loss: 0.2982 - val_accuracy: 0.9467\n",
            "Epoch 4/20\n",
            "1071/1071 [==============================] - 919s 858ms/step - loss: 0.2838 - accuracy: 0.9482 - val_loss: 0.2850 - val_accuracy: 0.9487\n",
            "Epoch 5/20\n",
            "1071/1071 [==============================] - 916s 855ms/step - loss: 0.2649 - accuracy: 0.9508 - val_loss: 0.2761 - val_accuracy: 0.9501\n",
            "Epoch 6/20\n",
            "1071/1071 [==============================] - 922s 861ms/step - loss: 0.2488 - accuracy: 0.9533 - val_loss: 0.2700 - val_accuracy: 0.9512\n",
            "Epoch 7/20\n",
            "1071/1071 [==============================] - 913s 853ms/step - loss: 0.2345 - accuracy: 0.9556 - val_loss: 0.2651 - val_accuracy: 0.9521\n",
            "Epoch 8/20\n",
            "1071/1071 [==============================] - 915s 855ms/step - loss: 0.2219 - accuracy: 0.9576 - val_loss: 0.2619 - val_accuracy: 0.9528\n",
            "Epoch 9/20\n",
            "1071/1071 [==============================] - 910s 849ms/step - loss: 0.2108 - accuracy: 0.9595 - val_loss: 0.2599 - val_accuracy: 0.9533\n",
            "Epoch 10/20\n",
            "1071/1071 [==============================] - 920s 860ms/step - loss: 0.2007 - accuracy: 0.9612 - val_loss: 0.2589 - val_accuracy: 0.9537\n",
            "Epoch 11/20\n",
            "1071/1071 [==============================] - 903s 844ms/step - loss: 0.1919 - accuracy: 0.9627 - val_loss: 0.2592 - val_accuracy: 0.9539\n",
            "Epoch 12/20\n",
            "1071/1071 [==============================] - 894s 835ms/step - loss: 0.1837 - accuracy: 0.9640 - val_loss: 0.2584 - val_accuracy: 0.9542\n",
            "Epoch 13/20\n",
            "1071/1071 [==============================] - 919s 858ms/step - loss: 0.1763 - accuracy: 0.9653 - val_loss: 0.2600 - val_accuracy: 0.9543\n",
            "Epoch 14/20\n",
            "1071/1071 [==============================] - 915s 855ms/step - loss: 0.1696 - accuracy: 0.9664 - val_loss: 0.2604 - val_accuracy: 0.9545\n",
            "Epoch 15/20\n",
            "1071/1071 [==============================] - 912s 851ms/step - loss: 0.1632 - accuracy: 0.9675 - val_loss: 0.2618 - val_accuracy: 0.9545\n",
            "Epoch 16/20\n",
            "1071/1071 [==============================] - 928s 867ms/step - loss: 0.1574 - accuracy: 0.9684 - val_loss: 0.2629 - val_accuracy: 0.9545\n",
            "Epoch 17/20\n",
            "1071/1071 [==============================] - 914s 853ms/step - loss: 0.1520 - accuracy: 0.9693 - val_loss: 0.2650 - val_accuracy: 0.9546\n",
            "Epoch 18/20\n",
            "1071/1071 [==============================] - 909s 849ms/step - loss: 0.1471 - accuracy: 0.9701 - val_loss: 0.2666 - val_accuracy: 0.9546\n",
            "Epoch 19/20\n",
            "1071/1071 [==============================] - 930s 869ms/step - loss: 0.1428 - accuracy: 0.9708 - val_loss: 0.2681 - val_accuracy: 0.9546\n",
            "Epoch 20/20\n",
            "1071/1071 [==============================] - 905s 845ms/step - loss: 0.1387 - accuracy: 0.9715 - val_loss: 0.2700 - val_accuracy: 0.9547\n"
          ],
          "name": "stdout"
        }
      ]
    },
    {
      "cell_type": "code",
      "metadata": {
        "id": "aokDi5223AlT",
        "colab": {
          "base_uri": "https://localhost:8080/",
          "height": 365
        },
        "outputId": "637b037d-e115-4ad0-ae41-4d2b7d50d07e"
      },
      "source": [
        "plt.figure(figsize=(15, 5))\n",
        "plt.subplot(1, 2, 1)\n",
        "plt.plot(fongbe_history.history['accuracy'])\n",
        "plt.plot(fongbe_history.history['val_accuracy'])\n",
        "plt.title('Fongbe model accuracy')\n",
        "plt.ylabel('accuracy')\n",
        "plt.xlabel('epoch')\n",
        "plt.legend(['train', 'val'], loc='upper left')\n",
        "\n",
        "plt.subplot(1, 2, 2)\n",
        "plt.plot(fongbe_history.history['loss'])\n",
        "plt.plot(fongbe_history.history['val_loss'])\n",
        "plt.title('Fongbe model loss')\n",
        "plt.ylabel('loss')\n",
        "plt.xlabel('epoch')\n",
        "plt.legend(['train', 'val'], loc='upper left')"
      ],
      "id": "aokDi5223AlT",
      "execution_count": null,
      "outputs": [
        {
          "output_type": "execute_result",
          "data": {
            "text/plain": [
              "<matplotlib.legend.Legend at 0x7f31c1c0cfd0>"
            ]
          },
          "metadata": {
            "tags": []
          },
          "execution_count": 32
        },
        {
          "output_type": "display_data",
          "data": {
            "image/png": "[encoded data removed]",
            "text/plain": [
              "<Figure size 1080x360 with 2 Axes>"
            ]
          },
          "metadata": {
            "tags": [],
            "needs_background": "light"
          }
        }
      ]
    },
    {
      "cell_type": "code",
      "metadata": {
        "id": "5jZTj4SfY-f-"
      },
      "source": [
        "fongbe_encoder_model = Model(encoder_inputs, encoder_states)\n",
        "\n",
        "decoder_state_input_h = Input(shape=(LSTM_SIZE,))\n",
        "decoder_state_input_c = Input(shape=(LSTM_SIZE,))\n",
        "decoder_states_inputs = [decoder_state_input_h, decoder_state_input_c]\n",
        "\n",
        "decoder_inputs_single = Input(shape=(1,))\n",
        "decoder_inputs_single_x = decoder_embedding(decoder_inputs_single)\n",
        "\n",
        "decoder_outputs, state_h, state_c = decoder_lstm(\n",
        "    decoder_inputs_single_x, initial_state=decoder_states_inputs)\n",
        "decoder_states = [state_h, state_c]\n",
        "decoder_outputs = decoder_dense(decoder_outputs)\n",
        "fongbe_decoder_model = Model(\n",
        "    [decoder_inputs_single] + decoder_states_inputs,\n",
        "    [decoder_outputs] + decoder_states)"
      ],
      "id": "5jZTj4SfY-f-",
      "execution_count": null,
      "outputs": []
    },
    {
      "cell_type": "code",
      "metadata": {
        "id": "9HI5r4VARRbW"
      },
      "source": [
        "fongbe_model.save(main_dir + 'fongbe.h5')\n",
        "fongbe_encoder_model.save(main_dir + 'fongbe_encoder.h5')\n",
        "fongbe_decoder_model.save(main_dir + 'fongbe_decoder.h5')"
      ],
      "id": "9HI5r4VARRbW",
      "execution_count": null,
      "outputs": []
    },
    {
      "cell_type": "markdown",
      "metadata": {
        "id": "hJkwQJ-n7X8s"
      },
      "source": [
        "# Ewe"
      ],
      "id": "hJkwQJ-n7X8s"
    },
    {
      "cell_type": "markdown",
      "metadata": {
        "id": "LAXlb2eS9V_x"
      },
      "source": [
        "## Parameters"
      ],
      "id": "LAXlb2eS9V_x"
    },
    {
      "cell_type": "code",
      "metadata": {
        "id": "m6RY93_BFTt6"
      },
      "source": [
        "EWE_MAX_SENTENCES = 30000\n",
        "EWE_MAX_NUM_WORDS = 30000\n",
        "LSTM_SIZE = 32\n",
        "EMBEDDING_SIZE = 32\n",
        "BATCH_SIZE = 64\n",
        "EPOCHS = 5"
      ],
      "id": "m6RY93_BFTt6",
      "execution_count": null,
      "outputs": []
    },
    {
      "cell_type": "markdown",
      "metadata": {
        "id": "bh0XFbVe9TJ9"
      },
      "source": [
        "## Preprocessing"
      ],
      "id": "bh0XFbVe9TJ9"
    },
    {
      "cell_type": "code",
      "metadata": {
        "id": "3Hehpi4rFaFa"
      },
      "source": [
        "ewe_input_sentences = train_df[train_df['Target_Language'] == 'Ewe']['French'].values[:EWE_MAX_SENTENCES]\n",
        "ewe_output_sentences = train_df[train_df['Target_Language'] == 'Ewe']['output_sentence'].values[:EWE_MAX_SENTENCES]\n",
        "ewe_output_sentences_inputs = train_df[train_df['Target_Language'] == 'Ewe']['output_sentence_input'].values[:EWE_MAX_SENTENCES]\n",
        "\n",
        "ewe_test_sentences = test_df[test_df['Target_Language'] == 'Ewe']['French'].values[:EWE_MAX_SENTENCES]"
      ],
      "id": "3Hehpi4rFaFa",
      "execution_count": null,
      "outputs": []
    },
    {
      "cell_type": "code",
      "metadata": {
        "id": "1jEeK8qXyB_S",
        "colab": {
          "base_uri": "https://localhost:8080/"
        },
        "outputId": "5a9a2bba-60c4-4e44-e4ad-997ca28e58e4"
      },
      "source": [
        "ewe_input_int_seq, ewe_test_int_seq, ewe_max_input_len, ewe_num_words, ewe_word2idx_inputs = tokenize_input(ewe_input_sentences, ewe_test_sentences, EWE_MAX_NUM_WORDS)\n",
        "ewe_output_int_seq, ewe_output_input_int_seq, ewe_max_output_len, ewe_num_words_output, ewe_word2idx_outputs = tokenize_output(ewe_output_sentences, ewe_output_sentences_inputs, EWE_MAX_NUM_WORDS)"
      ],
      "id": "1jEeK8qXyB_S",
      "execution_count": null,
      "outputs": [
        {
          "output_type": "stream",
          "text": [
            "Unique words in the input: 33913\n",
            "Longest sentence length: 107\n",
            "Unique words in the output: 28482\n",
            "Longest sentence length: 66\n"
          ],
          "name": "stdout"
        }
      ]
    },
    {
      "cell_type": "code",
      "metadata": {
        "id": "s0JTgWqe9bPA",
        "colab": {
          "base_uri": "https://localhost:8080/"
        },
        "outputId": "75041c7c-3af3-42aa-c55d-473829b6abf3"
      },
      "source": [
        "ewe_encoder_input_sequences = pad_sequences(ewe_input_int_seq, maxlen=ewe_max_input_len)\n",
        "ewe_decoder_output_sequences = pad_sequences(ewe_output_int_seq, maxlen=ewe_max_output_len, padding='post')\n",
        "ewe_decoder_input_sequences = pad_sequences(ewe_output_input_int_seq, maxlen=ewe_max_output_len, padding='post')\n",
        "\n",
        "ewe_test_sequences = pad_sequences(ewe_test_int_seq, maxlen=ewe_max_input_len)\n",
        "\n",
        "print(ewe_encoder_input_sequences.shape, ewe_test_sequences.shape, ewe_decoder_input_sequences.shape, ewe_decoder_output_sequences.shape)"
      ],
      "id": "s0JTgWqe9bPA",
      "execution_count": null,
      "outputs": [
        {
          "output_type": "stream",
          "text": [
            "(22353, 107) (2964, 107) (22353, 66) (22353, 66)\n"
          ],
          "name": "stdout"
        }
      ]
    },
    {
      "cell_type": "markdown",
      "metadata": {
        "id": "IulTwgUgGVqS"
      },
      "source": [
        "## Model"
      ],
      "id": "IulTwgUgGVqS"
    },
    {
      "cell_type": "code",
      "metadata": {
        "id": "BtGB3c06k-Ml"
      },
      "source": [
        "X_train_ewe_encoder, X_test_ewe_encoder, X_train_ewe_decoder, X_test_ewe_decoder, y_train_ewe, y_test_ewe = train_test_split(ewe_encoder_input_sequences, ewe_decoder_input_sequences, ewe_decoder_output_sequences, test_size=0.2)"
      ],
      "id": "BtGB3c06k-Ml",
      "execution_count": null,
      "outputs": []
    },
    {
      "cell_type": "code",
      "metadata": {
        "id": "M9EBsr8d9wLD"
      },
      "source": [
        "encoder_inputs = Input(shape=(ewe_max_input_len,))\n",
        "x = Embedding(ewe_num_words, EMBEDDING_SIZE)(encoder_inputs)\n",
        "x, state_h, state_c = LSTM(LSTM_SIZE, return_state=True, kernel_regularizer=l2(0.01), recurrent_regularizer=l2(0.01), bias_regularizer=l2(0.01))(x)\n",
        "encoder_states = [state_h, state_c]\n",
        "\n",
        "# Set up the decoder, using `encoder_states` as initial state.\n",
        "decoder_inputs = Input(shape=(ewe_max_output_len,))\n",
        "decoder_embedding = Embedding(ewe_num_words_output, EMBEDDING_SIZE)\n",
        "decoder_inputs_x = decoder_embedding(decoder_inputs)\n",
        "\n",
        "decoder_lstm = LSTM(LSTM_SIZE, return_sequences=True, return_state=True)\n",
        "decoder_outputs, _, _ = decoder_lstm(decoder_inputs_x, initial_state=encoder_states)\n",
        "\n",
        "decoder_dense = Dense(ewe_num_words_output, activation='softmax')\n",
        "decoder_outputs = decoder_dense(decoder_outputs)\n",
        "\n",
        "# Define the model that will turn\n",
        "# `encoder_input_data` & `decoder_input_data` into `decoder_target_data`\n",
        "ewe_model = Model([encoder_inputs, decoder_inputs], decoder_outputs)"
      ],
      "id": "M9EBsr8d9wLD",
      "execution_count": null,
      "outputs": []
    },
    {
      "cell_type": "code",
      "metadata": {
        "id": "-KrqkdSKGmcD"
      },
      "source": [
        "ewe_model.compile(optimizer='rmsprop', loss='categorical_crossentropy', metrics=['accuracy'])"
      ],
      "id": "-KrqkdSKGmcD",
      "execution_count": null,
      "outputs": []
    },
    {
      "cell_type": "code",
      "metadata": {
        "colab": {
          "base_uri": "https://localhost:8080/"
        },
        "id": "qyGjKs9AGqs4",
        "outputId": "4cb8cd65-44c9-4dba-b970-916099da8454"
      },
      "source": [
        "ewe_history = ewe_model.fit(\n",
        "    generate_batch(X_train_ewe_encoder, X_train_ewe_decoder, y_train_ewe, BATCH_SIZE, ewe_max_output_len, ewe_num_words_output),\n",
        "    steps_per_epoch=math.ceil(len(X_train_ewe_encoder)/BATCH_SIZE),\n",
        "    epochs=EPOCHS,\n",
        "    validation_data=generate_batch(X_test_ewe_encoder, X_test_ewe_decoder, y_test_ewe, BATCH_SIZE, ewe_max_output_len, ewe_num_words_output),\n",
        "    validation_steps=math.ceil(len(X_test_ewe_encoder)/BATCH_SIZE)\n",
        ")"
      ],
      "id": "qyGjKs9AGqs4",
      "execution_count": null,
      "outputs": [
        {
          "output_type": "stream",
          "text": [
            "Epoch 1/5\n",
            "280/280 [==============================] - ETA: 0s - loss: 6.8181 - accuracy: 0.5761"
          ],
          "name": "stdout"
        }
      ]
    },
    {
      "cell_type": "code",
      "metadata": {
        "colab": {
          "base_uri": "https://localhost:8080/",
          "height": 365
        },
        "id": "22LstvrdmcD7",
        "outputId": "13e6615b-41df-4b86-b4b7-45994a802a04"
      },
      "source": [
        "plt.figure(figsize=(15, 5))\n",
        "plt.subplot(1, 2, 1)\n",
        "plt.plot(ewe_history.history['accuracy'])\n",
        "plt.plot(ewe_history.history['val_accuracy'])\n",
        "plt.title('Ewe model accuracy')\n",
        "plt.ylabel('accuracy')\n",
        "plt.xlabel('epoch')\n",
        "plt.legend(['train', 'val'], loc='upper left')\n",
        "\n",
        "plt.subplot(1, 2, 2)\n",
        "plt.plot(ewe_history.history['loss'])\n",
        "plt.plot(ewe_history.history['val_loss'])\n",
        "plt.title('Ewe model loss')\n",
        "plt.ylabel('loss')\n",
        "plt.xlabel('epoch')\n",
        "plt.legend(['train', 'val'], loc='upper left')"
      ],
      "id": "22LstvrdmcD7",
      "execution_count": null,
      "outputs": [
        {
          "output_type": "execute_result",
          "data": {
            "text/plain": [
              "<matplotlib.legend.Legend at 0x7f31a2393810>"
            ]
          },
          "metadata": {
            "tags": []
          },
          "execution_count": 45
        },
        {
          "output_type": "display_data",
          "data": {
            "image/png": "[encoded data removed]",
            "text/plain": [
              "<Figure size 1080x360 with 2 Axes>"
            ]
          },
          "metadata": {
            "tags": [],
            "needs_background": "light"
          }
        }
      ]
    },
    {
      "cell_type": "code",
      "metadata": {
        "id": "Qh1ewTi3G2mQ"
      },
      "source": [
        "ewe_encoder_model = Model(encoder_inputs, encoder_states)\n",
        "\n",
        "decoder_state_input_h = Input(shape=(LSTM_SIZE,))\n",
        "decoder_state_input_c = Input(shape=(LSTM_SIZE,))\n",
        "decoder_states_inputs = [decoder_state_input_h, decoder_state_input_c]\n",
        "\n",
        "decoder_inputs_single = Input(shape=(1,))\n",
        "decoder_inputs_single_x = decoder_embedding(decoder_inputs_single)\n",
        "\n",
        "decoder_outputs, state_h, state_c = decoder_lstm(\n",
        "    decoder_inputs_single_x, initial_state=decoder_states_inputs)\n",
        "decoder_states = [state_h, state_c]\n",
        "decoder_outputs = decoder_dense(decoder_outputs)\n",
        "ewe_decoder_model = Model(\n",
        "    [decoder_inputs_single] + decoder_states_inputs,\n",
        "    [decoder_outputs] + decoder_states)"
      ],
      "id": "Qh1ewTi3G2mQ",
      "execution_count": null,
      "outputs": []
    },
    {
      "cell_type": "code",
      "metadata": {
        "id": "MeEZZ3cn-Nhw"
      },
      "source": [
        "ewe_model.save(main_dir + 'ewe.h5')\n",
        "ewe_encoder_model.save(main_dir + 'ewe_encoder.h5')\n",
        "ewe_decoder_model.save(main_dir + 'ewe_decoder.h5')"
      ],
      "id": "MeEZZ3cn-Nhw",
      "execution_count": null,
      "outputs": []
    },
    {
      "cell_type": "markdown",
      "metadata": {
        "id": "0U8mniztIEiN"
      },
      "source": [
        "# Preparing submission file"
      ],
      "id": "0U8mniztIEiN"
    },
    {
      "cell_type": "code",
      "metadata": {
        "id": "3BBZ4I3kJCx0",
        "colab": {
          "base_uri": "https://localhost:8080/"
        },
        "outputId": "6496fe74-feaa-4992-a0a1-76535e092f93"
      },
      "source": [
        "fongbe_model = load_model(main_dir + 'fongbe.h5')\n",
        "fongbe_encoder_model = load_model(main_dir + 'fongbe_encoder.h5')\n",
        "fongbe_decoder_model = load_model(main_dir + 'fongbe_decoder.h5')\n",
        "\n",
        "ewe_model = load_model(main_dir + 'ewe.h5')\n",
        "ewe_encoder_model = load_model(main_dir + 'ewe_encoder.h5')\n",
        "ewe_decoder_model = load_model(main_dir + 'ewe_decoder.h5')"
      ],
      "id": "3BBZ4I3kJCx0",
      "execution_count": null,
      "outputs": [
        {
          "output_type": "stream",
          "text": [
            "WARNING:tensorflow:No training configuration found in the save file, so the model was *not* compiled. Compile it manually.\n",
            "WARNING:tensorflow:No training configuration found in the save file, so the model was *not* compiled. Compile it manually.\n",
            "WARNING:tensorflow:No training configuration found in the save file, so the model was *not* compiled. Compile it manually.\n",
            "WARNING:tensorflow:No training configuration found in the save file, so the model was *not* compiled. Compile it manually.\n"
          ],
          "name": "stdout"
        }
      ]
    },
    {
      "cell_type": "code",
      "metadata": {
        "id": "K6f0u_Km-hK9"
      },
      "source": [
        "fongbe_idx2word_input = {v:k for k, v in fongbe_word2idx_inputs.items()}\n",
        "fongbe_idx2word_target = {v:k for k, v in fongbe_word2idx_outputs.items()}\n",
        "\n",
        "ewe_idx2word_input = {v:k for k, v in ewe_word2idx_inputs.items()}\n",
        "ewe_idx2word_target = {v:k for k, v in ewe_word2idx_outputs.items()}"
      ],
      "id": "K6f0u_Km-hK9",
      "execution_count": null,
      "outputs": []
    },
    {
      "cell_type": "code",
      "metadata": {
        "id": "Lall4mM-_9oF"
      },
      "source": [
        "def translate_sentence(input_seq, encoder_model, decoder_model, word2idx_outputs, idx2word_target, max_out_len):\n",
        "    states_value = encoder_model.predict(input_seq)\n",
        "    target_seq = np.zeros((1, 1))\n",
        "    target_seq[0, 0] = word2idx_outputs['<start>']\n",
        "    end = word2idx_outputs['<end>']\n",
        "    output_sentence = []\n",
        "\n",
        "    for _ in range(max_out_len):\n",
        "        output_tokens, h, c = decoder_model.predict([target_seq] + states_value)\n",
        "        idx = np.argmax(output_tokens[0, 0, :])\n",
        "\n",
        "        if end == idx:\n",
        "            break\n",
        "\n",
        "        word = ''\n",
        "\n",
        "        if idx > 0:\n",
        "            word = idx2word_target[idx]\n",
        "            output_sentence.append(word)\n",
        "\n",
        "        target_seq[0, 0] = idx\n",
        "        states_value = [h, c]\n",
        "\n",
        "    return ' '.join(output_sentence)"
      ],
      "id": "Lall4mM-_9oF",
      "execution_count": null,
      "outputs": []
    },
    {
      "cell_type": "code",
      "metadata": {
        "id": "JV_iCMcQAFSt",
        "colab": {
          "base_uri": "https://localhost:8080/"
        },
        "outputId": "7d675d00-337e-42e8-f0c6-0971be8d44e1"
      },
      "source": [
        "i = np.random.choice(len(fongbe_input_sentences))\n",
        "input_seq = fongbe_encoder_input_sequences[i:i+1]\n",
        "translation = translate_sentence(input_seq, fongbe_encoder_model, fongbe_decoder_model, fongbe_word2idx_outputs, fongbe_idx2word_target, fongbe_max_output_len)\n",
        "print('-')\n",
        "print('Input:', fongbe_input_sentences[i])\n",
        "print('Model response:', translation)\n",
        "print('Output:', fongbe_output_sentences[i])"
      ],
      "id": "JV_iCMcQAFSt",
      "execution_count": null,
      "outputs": [
        {
          "output_type": "stream",
          "text": [
            "-\n",
            "Input: Courage !\n",
            "Model response: mi glá !\n",
            "Output: Mi glá ! <end>\n"
          ],
          "name": "stdout"
        }
      ]
    },
    {
      "cell_type": "code",
      "metadata": {
        "id": "smgDCw3dAJ7f",
        "colab": {
          "base_uri": "https://localhost:8080/"
        },
        "outputId": "614adfaf-1b04-465b-9c94-c0f2974b8c53"
      },
      "source": [
        "i = np.random.choice(len(ewe_input_sentences))\n",
        "input_seq = ewe_encoder_input_sequences[i:i+1]\n",
        "translation = translate_sentence(input_seq, ewe_encoder_model, ewe_decoder_model, ewe_word2idx_outputs, ewe_idx2word_target, ewe_max_output_len)\n",
        "print('-')\n",
        "print('Input:', ewe_input_sentences[i])\n",
        "print('Model response:', translation)\n",
        "print('Output:', ewe_output_sentences[i])"
      ],
      "id": "smgDCw3dAJ7f",
      "execution_count": null,
      "outputs": [
        {
          "output_type": "stream",
          "text": [
            "-\n",
            "Input: Mes enfants n'aiment pas ces bonbons,\n",
            "Model response: \n",
            "Output: vinyewo mélɔ̃a tɔfi mawo o <end>\n"
          ],
          "name": "stdout"
        }
      ]
    },
    {
      "cell_type": "code",
      "metadata": {
        "id": "UIqKsunSJeWl"
      },
      "source": [
        "fongbe_ids = test_df[test_df['Target_Language'] == 'Fon']['ID'].values\n",
        "ewe_ids = test_df[test_df['Target_Language'] == 'Ewe']['ID'].values"
      ],
      "id": "UIqKsunSJeWl",
      "execution_count": null,
      "outputs": []
    },
    {
      "cell_type": "code",
      "metadata": {
        "colab": {
          "base_uri": "https://localhost:8080/",
          "height": 65,
          "referenced_widgets": [
            "a4282241bce240a6980a6c0d41736270",
            "2cacb24652b7481f8844d3eb873e81fd",
            "7cce326b924b403b8e5a747bcbf0180a",
            "f6e2e496c7eb4eb3b610e8e83ee92b5d",
            "faf63ac073d84fb8b4bb2a8499692f27",
            "7ec4608a0ba7454a98fbed3410e9595a",
            "673eb6742f3044618245c98830c54d02",
            "7de0d3d50d8f4d728663b6a40b035b92"
          ]
        },
        "id": "DQk4ia4fW3b-",
        "outputId": "6368fb70-a39e-42d9-994a-4b0bacd18e17"
      },
      "source": [
        "fongbe_translated_sentences = []\n",
        "for i in trange(len(fongbe_test_sequences)):\n",
        "  translation = translate_sentence(fongbe_test_sequences[i:i+1], fongbe_encoder_model, fongbe_decoder_model, fongbe_word2idx_outputs, fongbe_idx2word_target, fongbe_max_output_len)\n",
        "  fongbe_translated_sentences.append(translation)"
      ],
      "id": "DQk4ia4fW3b-",
      "execution_count": null,
      "outputs": [
        {
          "output_type": "display_data",
          "data": {
            "application/vnd.jupyter.widget-view+json": {
              "model_id": "a4282241bce240a6980a6c0d41736270",
              "version_minor": 0,
              "version_major": 2
            },
            "text/plain": [
              "HBox(children=(FloatProgress(value=0.0, max=2929.0), HTML(value='')))"
            ]
          },
          "metadata": {
            "tags": []
          }
        },
        {
          "output_type": "stream",
          "text": [
            "\n"
          ],
          "name": "stdout"
        }
      ]
    },
    {
      "cell_type": "code",
      "metadata": {
        "colab": {
          "base_uri": "https://localhost:8080/",
          "height": 65,
          "referenced_widgets": [
            "1c3422f015c9486e98629275fae1c6cf",
            "7907c18c78bb46448a8077ae49b2cbf8",
            "f27d92399afc486fb80ef97174625a8d",
            "c2ec380e5f70413091ec7bc59f1943e9",
            "e37a0913ea854c17ae5f1e12c176dc27",
            "f1e8fc51ab4b446fb7e7c9f2ee062d65",
            "84f8e3446ae444baa8f4a20dc0493fa1",
            "0ae02b560cf548798585919c409a84a4"
          ]
        },
        "id": "CSBPLxFpZUtj",
        "outputId": "43ab49ab-c462-48d3-9a7d-f67e67622145"
      },
      "source": [
        "ewe_translated_sentences = []\n",
        "for i in trange(len(ewe_test_sequences)):\n",
        "  translation = translate_sentence(ewe_test_sequences[i:i+1], ewe_encoder_model, ewe_decoder_model, ewe_word2idx_outputs, ewe_idx2word_target, ewe_max_output_len)\n",
        "  ewe_translated_sentences.append(translation)"
      ],
      "id": "CSBPLxFpZUtj",
      "execution_count": null,
      "outputs": [
        {
          "output_type": "display_data",
          "data": {
            "application/vnd.jupyter.widget-view+json": {
              "model_id": "1c3422f015c9486e98629275fae1c6cf",
              "version_minor": 0,
              "version_major": 2
            },
            "text/plain": [
              "HBox(children=(FloatProgress(value=0.0, max=2964.0), HTML(value='')))"
            ]
          },
          "metadata": {
            "tags": []
          }
        },
        {
          "output_type": "stream",
          "text": [
            "\n"
          ],
          "name": "stdout"
        }
      ]
    },
    {
      "cell_type": "code",
      "metadata": {
        "id": "HFZdLgabL4vK"
      },
      "source": [
        "submission_df = pd.DataFrame({'ID': np.append(fongbe_ids, ewe_ids), 'Target': fongbe_translated_sentences + ewe_translated_sentences})\n",
        "submission_df['Target'].replace({'': '0'}, inplace=True)\n",
        "submission_df.to_csv(main_dir + 'submission1.csv', index=False)"
      ],
      "id": "HFZdLgabL4vK",
      "execution_count": null,
      "outputs": []
    }
  ]
}